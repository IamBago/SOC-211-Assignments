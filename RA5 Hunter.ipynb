{
 "cells": [
  {
   "cell_type": "markdown",
   "metadata": {},
   "source": [
    "# Research Assignment 5 \n",
    "\n",
    "\n",
    "Hunter Prout \n",
    "\n",
    "Research asgginemt 5 \n",
    "\n",
    "\n",
    "4.21.24 \n"
   ]
  },
  {
   "cell_type": "code",
   "execution_count": 2,
   "metadata": {
    "tags": []
   },
   "outputs": [
    {
     "name": "stdout",
     "output_type": "stream",
     "text": [
      "\n"
     ]
    }
   ],
   "source": [
    "set maxvar 120000\n",
    "use GSS2022.dta, clear\n",
    "eststo clear"
   ]
  },
  {
   "cell_type": "code",
   "execution_count": 3,
   "metadata": {
    "tags": []
   },
   "outputs": [
    {
     "name": "stdout",
     "output_type": "stream",
     "text": [
      "\n",
      "Variable      Storage   Display    Value\n",
      "    name         type    format    label      Variable label\n",
      "-------------------------------------------------------------------------------\n",
      "coneduc         byte    %29.0g     INSTCONF   confidence in education\n",
      "educ            byte    %29.0g     EDUC       highest year of school completed\n",
      "race            byte    %29.0g     RACE       race of respondent\n",
      "sex             byte    %29.0g     GENDER     respondents sex\n",
      "age             byte    %29.0g     AGE        age of respondent\n"
     ]
    }
   ],
   "source": [
    "describe coneduc educ race sex age"
   ]
  },
  {
   "cell_type": "code",
   "execution_count": 4,
   "metadata": {
    "tags": []
   },
   "outputs": [
    {
     "name": "stdout",
     "output_type": "stream",
     "text": [
      "\n",
      "-------------------------------------------------------------------------------\n",
      "coneduc                                                 confidence in education\n",
      "-------------------------------------------------------------------------------\n",
      "\n",
      "                  Type: Numeric (byte)\n",
      "                 Label: INSTCONF\n",
      "\n",
      "                 Range: [1,3]                         Units: 1\n",
      "         Unique values: 3                         Missing .: 0/3,544\n",
      "       Unique mv codes: 4                        Missing .*: 1,194/3,544\n",
      "\n",
      "            Tabulation: Freq.   Numeric  Label\n",
      "                          428         1  a great deal\n",
      "                        1,355         2  only some\n",
      "                          567         3  hardly any\n",
      "                           12        .d  don't know\n",
      "                        1,173        .i  iap\n",
      "                            1        .n  no answer\n",
      "                            8        .s  skipped on web\n",
      "\n",
      "-------------------------------------------------------------------------------\n",
      "educ                                           highest year of school completed\n",
      "-------------------------------------------------------------------------------\n",
      "\n",
      "                  Type: Numeric (byte)\n",
      "                 Label: EDUC, but 20 nonmissing values are not labeled\n",
      "\n",
      "                 Range: [0,20]                        Units: 1\n",
      "         Unique values: 21                        Missing .: 0/3,544\n",
      "       Unique mv codes: 1                        Missing .*: 20/3,544\n",
      "\n",
      "              Examples: 12    \n",
      "                        13    \n",
      "                        15    \n",
      "                        16    \n",
      "\n",
      "-------------------------------------------------------------------------------\n",
      "sex                                                             respondents sex\n",
      "-------------------------------------------------------------------------------\n",
      "\n",
      "                  Type: Numeric (byte)\n",
      "                 Label: GENDER\n",
      "\n",
      "                 Range: [1,2]                         Units: 1\n",
      "         Unique values: 2                         Missing .: 0/3,544\n",
      "       Unique mv codes: 3                        Missing .*: 20/3,544\n",
      "\n",
      "            Tabulation: Freq.   Numeric  Label\n",
      "                        1,627         1  male\n",
      "                        1,897         2  female\n",
      "                            8        .d  don't know\n",
      "                            9        .n  no answer\n",
      "                            3        .s  skipped on web\n",
      "\n",
      "-------------------------------------------------------------------------------\n",
      "age                                                           age of respondent\n",
      "-------------------------------------------------------------------------------\n",
      "\n",
      "                  Type: Numeric (byte)\n",
      "                 Label: AGE, but 71 nonmissing values are not labeled\n",
      "\n",
      "                 Range: [18,89]                       Units: 1\n",
      "         Unique values: 72                        Missing .: 0/3,544\n",
      "       Unique mv codes: 1                        Missing .*: 208/3,544\n",
      "\n",
      "              Examples: 32    \n",
      "                        44    \n",
      "                        57    \n",
      "                        70    \n",
      "\n",
      "-------------------------------------------------------------------------------\n",
      "race                                                         race of respondent\n",
      "-------------------------------------------------------------------------------\n",
      "\n",
      "                  Type: Numeric (byte)\n",
      "                 Label: RACE\n",
      "\n",
      "                 Range: [1,3]                         Units: 1\n",
      "         Unique values: 3                         Missing .: 0/3,544\n",
      "       Unique mv codes: 1                        Missing .*: 53/3,544\n",
      "\n",
      "            Tabulation: Freq.   Numeric  Label\n",
      "                        2,514         1  white\n",
      "                          565         2  black\n",
      "                          412         3  other\n",
      "                           53        .i  iap\n"
     ]
    }
   ],
   "source": [
    "codebook coneduc educ sex age race"
   ]
  },
  {
   "cell_type": "code",
   "execution_count": 5,
   "metadata": {
    "tags": []
   },
   "outputs": [],
   "source": [
    "keep coneduc educ age race sex"
   ]
  },
  {
   "cell_type": "code",
   "execution_count": 6,
   "metadata": {
    "tags": []
   },
   "outputs": [
    {
     "name": "stdout",
     "output_type": "stream",
     "text": [
      "\n",
      "      confidence in education |      Freq.     Percent        Cum.\n",
      "------------------------------+-----------------------------------\n",
      "                 a great deal |        428       18.21       18.21\n",
      "                    only some |      1,355       57.66       75.87\n",
      "                   hardly any |        567       24.13      100.00\n",
      "------------------------------+-----------------------------------\n",
      "                        Total |      2,350      100.00\n",
      "\n",
      " confidence |\n",
      "         in |\n",
      "  education |      Freq.     Percent        Cum.\n",
      "------------+-----------------------------------\n",
      "          1 |        428       18.21       18.21\n",
      "          2 |      1,355       57.66       75.87\n",
      "          3 |        567       24.13      100.00\n",
      "------------+-----------------------------------\n",
      "      Total |      2,350      100.00\n"
     ]
    }
   ],
   "source": [
    "tab coneduc\n",
    "tab coneduc, nol"
   ]
  },
  {
   "cell_type": "code",
   "execution_count": 7,
   "metadata": {
    "tags": []
   },
   "outputs": [
    {
     "name": "stdout",
     "output_type": "stream",
     "text": [
      "(1,194 missing values generated)\n",
      "(0 real changes made)\n",
      "(567 real changes made)\n",
      "(1,355 observations deleted)\n"
     ]
    }
   ],
   "source": [
    "gen hconeduc=coneduc\n",
    "replace hconeduc=1 if coneduc==1\n",
    "replace hconeduc=0 if coneduc==3\n",
    "drop if hconeduc==2"
   ]
  },
  {
   "cell_type": "code",
   "execution_count": 8,
   "metadata": {
    "tags": []
   },
   "outputs": [
    {
     "name": "stdout",
     "output_type": "stream",
     "text": [
      "\n",
      "   hconeduc |      Freq.     Percent        Cum.\n",
      "------------+-----------------------------------\n",
      "          0 |        567       56.98       56.98\n",
      "          1 |        428       43.02      100.00\n",
      "------------+-----------------------------------\n",
      "      Total |        995      100.00\n"
     ]
    }
   ],
   "source": [
    "tab hconeduc"
   ]
  },
  {
   "cell_type": "code",
   "execution_count": 9,
   "metadata": {
    "tags": []
   },
   "outputs": [],
   "source": [
    "label variable hconeduc \"High Confidence in Education\"\n",
    "label define hconeduc 0 \"Low Confidence\" 1 \"High Confidence\"\n",
    "label values hconeduc hconeduc"
   ]
  },
  {
   "cell_type": "code",
   "execution_count": 10,
   "metadata": {
    "tags": []
   },
   "outputs": [
    {
     "name": "stdout",
     "output_type": "stream",
     "text": [
      "\n",
      "           race of respondent |      Freq.     Percent        Cum.\n",
      "------------------------------+-----------------------------------\n",
      "                        white |      1,517       70.56       70.56\n",
      "                        black |        366       17.02       87.58\n",
      "                        other |        267       12.42      100.00\n",
      "------------------------------+-----------------------------------\n",
      "                        Total |      2,150      100.00\n"
     ]
    }
   ],
   "source": [
    "tab race"
   ]
  },
  {
   "cell_type": "code",
   "execution_count": 11,
   "metadata": {
    "tags": []
   },
   "outputs": [
    {
     "name": "stdout",
     "output_type": "stream",
     "text": [
      "(39 missing values generated)\n"
     ]
    }
   ],
   "source": [
    "gen black=race"
   ]
  },
  {
   "cell_type": "code",
   "execution_count": 12,
   "metadata": {
    "tags": []
   },
   "outputs": [
    {
     "name": "stdout",
     "output_type": "stream",
     "text": [
      "(366 real changes made)\n",
      "(1,517 real changes made)\n",
      "(267 real changes made)\n",
      "(0 observations deleted)\n",
      "(39 observations deleted)\n",
      "(0 observations deleted)\n",
      "(0 observations deleted)\n",
      "\n",
      "                      |         black\n",
      "  Race of Respondents |         0          1 |     Total\n",
      "----------------------+----------------------+----------\n",
      "                white |     1,517          0 |     1,517 \n",
      "                black |         0        366 |       366 \n",
      "                other |       267          0 |       267 \n",
      "----------------------+----------------------+----------\n",
      "                Total |     1,784        366 |     2,150 \n",
      "\n",
      "      black |      Freq.     Percent        Cum.\n",
      "------------+-----------------------------------\n",
      "          0 |      1,784       82.98       82.98\n",
      "          1 |        366       17.02      100.00\n",
      "------------+-----------------------------------\n",
      "      Total |      2,150      100.00\n"
     ]
    }
   ],
   "source": [
    "label var race \"Race of Respondents\"\n",
    "label define race 1 \"White\" 2 \"Black\" 3\"Other\"\n",
    "replace black=1 if race==2\n",
    "replace black=0 if race==1\n",
    "replace black=0 if race==3\n",
    "drop if black==.d\n",
    "drop if black==.i\n",
    "drop if black==.n\n",
    "drop if black==.s\n",
    "tab race black, m\n",
    "tab black"
   ]
  },
  {
   "cell_type": "code",
   "execution_count": 13,
   "metadata": {
    "tags": []
   },
   "outputs": [
    {
     "name": "stdout",
     "output_type": "stream",
     "text": [
      "(1,784 real changes made, 1,784 to missing)\n"
     ]
    }
   ],
   "source": [
    "replace black=. if black==0"
   ]
  },
  {
   "cell_type": "code",
   "execution_count": 14,
   "metadata": {
    "tags": []
   },
   "outputs": [
    {
     "name": "stdout",
     "output_type": "stream",
     "text": [
      "\n",
      "      black |      Freq.     Percent        Cum.\n",
      "------------+-----------------------------------\n",
      "          1 |        366      100.00      100.00\n",
      "------------+-----------------------------------\n",
      "      Total |        366      100.00\n"
     ]
    }
   ],
   "source": [
    "tab black"
   ]
  },
  {
   "cell_type": "code",
   "execution_count": 15,
   "metadata": {
    "tags": []
   },
   "outputs": [
    {
     "name": "stdout",
     "output_type": "stream",
     "text": [
      "(10 missing values generated)\n",
      "(0 real changes made)\n",
      "(0 real changes made)\n",
      "(5 observations deleted)\n",
      "(0 observations deleted)\n",
      "(3 observations deleted)\n",
      "(2 observations deleted)\n",
      "\n",
      "                      |  Sex of Respondents\n",
      "      respondents sex |      Male     Female |     Total\n",
      "----------------------+----------------------+----------\n",
      "                 male |     1,038          0 |     1,038 \n",
      "               female |         0      1,102 |     1,102 \n",
      "----------------------+----------------------+----------\n",
      "                Total |     1,038      1,102 |     2,140 \n"
     ]
    }
   ],
   "source": [
    "gen sex1=sex\n",
    "label var sex1 \"Sex of Respondents\"\n",
    "label define sex1 1\"Male\" 2 \"Female\"\n",
    "label values sex1 sex1\n",
    "replace sex1=1 if sex==1\n",
    "replace sex1=2 if sex==2 \n",
    "drop if sex1==.d\n",
    "drop if sex1==.i\n",
    "drop if sex1==.n\n",
    "drop if sex1==.s\n",
    "tab sex sex1, m"
   ]
  },
  {
   "cell_type": "code",
   "execution_count": 16,
   "metadata": {
    "tags": []
   },
   "outputs": [
    {
     "name": "stdout",
     "output_type": "stream",
     "text": [
      "(16 missing values generated)\n",
      "(0 real changes made)\n",
      "(3 real changes made)\n",
      "(3 real changes made)\n",
      "(1 real change made)\n",
      "(5 real changes made)\n",
      "(14 real changes made)\n",
      "(9 real changes made)\n",
      "(27 real changes made)\n",
      "(39 real changes made)\n",
      "(52 real changes made)\n",
      "(75 real changes made)\n",
      "(531 real changes made)\n",
      "(153 real changes made)\n",
      "(313 real changes made)\n",
      "(119 real changes made)\n",
      "(427 real changes made)\n",
      "(98 real changes made)\n",
      "(125 real changes made)\n",
      "(40 real changes made)\n",
      "(90 real changes made)\n",
      "(16 observations deleted)\n",
      "(0 observations deleted)\n",
      "(0 observations deleted)\n",
      "\n",
      "      highest year of |  Level of Education Attainment\n",
      "     school completed |  Low/k-12  Some/Coll  High/Grad |     Total\n",
      "----------------------+---------------------------------+----------\n",
      "                    2 |         3          0          0 |         3 \n",
      "                    3 |         3          0          0 |         3 \n",
      "                    4 |         1          0          0 |         1 \n",
      "                    5 |         5          0          0 |         5 \n",
      "                    6 |        14          0          0 |        14 \n",
      "                    7 |         9          0          0 |         9 \n",
      "                    8 |        27          0          0 |        27 \n",
      "                    9 |        39          0          0 |        39 \n",
      "                   10 |        52          0          0 |        52 \n",
      "                   11 |        75          0          0 |        75 \n",
      "                   12 |       531          0          0 |       531 \n",
      "                   13 |         0        153          0 |       153 \n",
      "                   14 |         0        313          0 |       313 \n",
      "                   15 |         0        119          0 |       119 \n",
      "                   16 |         0        427          0 |       427 \n",
      "                   17 |         0          0         98 |        98 \n",
      "                   18 |         0          0        125 |       125 \n",
      "                   19 |         0          0         40 |        40 \n",
      "                   20 |         0          0         90 |        90 \n",
      "----------------------+---------------------------------+----------\n",
      "                Total |       759      1,012        353 |     2,124 \n",
      "\n",
      "     Level of |\n",
      "    Education |\n",
      "   Attainment |      Freq.     Percent        Cum.\n",
      "--------------+-----------------------------------\n",
      "     Low/k-12 |        759       35.73       35.73\n",
      " Some/College |      1,012       47.65       83.38\n",
      "High/Graduate |        353       16.62      100.00\n",
      "--------------+-----------------------------------\n",
      "        Total |      2,124      100.00\n"
     ]
    }
   ],
   "source": [
    "gen education=educ  //higher values=more education\n",
    "label var education \"Level of Education Attainment\"\n",
    "label define education 1\"Low/k-12\" 2\"Some/College\" 3 \"High/Graduate\" \n",
    "label values education education\n",
    "replace education=1 if educ==1\n",
    "replace education=1 if educ==2\n",
    "replace education=1 if educ==3\n",
    "replace education=1 if educ==4\n",
    "replace education=1 if educ==5\n",
    "replace education=1 if educ==6\n",
    "replace education=1 if educ==7\n",
    "replace education=1 if educ==8\n",
    "replace education=1 if educ==9\n",
    "replace education=1 if educ==10\n",
    "replace education=1 if educ==11\n",
    "replace education=1 if educ==12\n",
    "replace education=2 if educ==13\n",
    "replace education=2 if educ==14\n",
    "replace education=2 if educ==15\n",
    "replace education=2 if educ==16\n",
    "replace education=3 if educ==17\n",
    "replace education=3 if educ==18\n",
    "replace education=3 if educ==19\n",
    "replace education=3 if educ==20\n",
    "drop if educ==.n\n",
    "drop if educ==.d\n",
    "drop if education==0\n",
    "tab educ education, m\n",
    "tab education"
   ]
  },
  {
   "cell_type": "markdown",
   "metadata": {},
   "source": [
    " people from a dominant racial background typically have a more positive view of the institutions in the United States. Although women on average have higher educational attainment than men, they are disciminanted against in education in the siilar ways that racial minorities are discriminated against. This relationship will cause women and black people to have lower confidence in education. As years of education increases, people are investing more time into their education, this increases thier expectation of confidence that education will be impactful and useful to their future. "
   ]
  },
  {
   "cell_type": "markdown",
   "metadata": {},
   "source": [
    "### 2. Test your hypotheses [3 pts]\n",
    "\n",
    "    A. Create a frequency table for your dependent variable (DV).\n",
    "\n",
    "    B. Estimate an OLS model regressing your dichotomous dependent variable (DV) on your hypothesized independent variables (IVs) and store the results.\n",
    "    \n",
    "    C. Estimate an MLE logistic model regressing your dichotomous dependent variable (DV) on your hypothesized independent variables (IVs) and store the results.\n",
    "    \n",
    "    D. Use esttab to output the coefficients for your OLS and MLE logistic models with html formatting within your Jupyter Notebook.\n",
    "    \n",
    "    E. Use esttab to reoutput your coefficients as odd ratios."
   ]
  },
  {
   "cell_type": "code",
   "execution_count": 19,
   "metadata": {
    "tags": []
   },
   "outputs": [
    {
     "name": "stdout",
     "output_type": "stream",
     "text": [
      "\n",
      "High Confidence |\n",
      "   in Education |      Freq.     Percent        Cum.\n",
      "----------------+-----------------------------------\n",
      " Low Confidence |        551       57.46       57.46\n",
      "High Confidence |        408       42.54      100.00\n",
      "----------------+-----------------------------------\n",
      "          Total |        959      100.00\n"
     ]
    }
   ],
   "source": [
    "tab hconeduc"
   ]
  },
  {
   "cell_type": "code",
   "execution_count": 20,
   "metadata": {
    "tags": []
   },
   "outputs": [],
   "source": [
    "est clear"
   ]
  },
  {
   "cell_type": "code",
   "execution_count": 21,
   "metadata": {
    "tags": []
   },
   "outputs": [
    {
     "name": "stdout",
     "output_type": "stream",
     "text": [
      "\n",
      "Linear regression                               Number of obs     =        959\n",
      "                                                F(5, 953)         =       6.27\n",
      "                                                Prob > F          =     0.0000\n",
      "                                                R-squared         =     0.0309\n",
      "                                                Root MSE          =     .48825\n",
      "\n",
      "------------------------------------------------------------------------------\n",
      "             |               Robust\n",
      "    hconeduc | Coefficient  std. err.      t    P>|t|     [95% conf. interval]\n",
      "-------------+----------------------------------------------------------------\n",
      "        race |\n",
      "      black  |   .1416641   .0435863     3.25   0.001     .0561278    .2272003\n",
      "      other  |   .1312796    .048869     2.69   0.007     .0353763    .2271829\n",
      "             |\n",
      "        sex1 |\n",
      "     Female  |   .0631588   .0317122     1.99   0.047     .0009251    .1253925\n",
      "             |\n",
      "   education |\n",
      "Some/Coll~e  |  -.0976255    .034286    -2.85   0.005    -.1649102   -.0303407\n",
      "High/Grad~e  |   .0084376   .0490612     0.17   0.863    -.0878429    .1047181\n",
      "             |\n",
      "       _cons |   .3949146   .0316759    12.47   0.000     .3327521    .4570771\n",
      "------------------------------------------------------------------------------\n",
      "(est1 stored)\n"
     ]
    }
   ],
   "source": [
    "eststo: reg hconeduc i.race i.sex1 i.education, ro"
   ]
  },
  {
   "cell_type": "code",
   "execution_count": 22,
   "metadata": {
    "tags": []
   },
   "outputs": [
    {
     "name": "stdout",
     "output_type": "stream",
     "text": [
      "\n",
      "Iteration 0:  Log pseudolikelihood = -654.02665  \n",
      "Iteration 1:  Log pseudolikelihood = -639.13791  \n",
      "Iteration 2:  Log pseudolikelihood = -639.12443  \n",
      "Iteration 3:  Log pseudolikelihood = -639.12443  \n",
      "\n",
      "Logistic regression                                     Number of obs =    959\n",
      "                                                        Wald chi2(5)  =  28.97\n",
      "                                                        Prob > chi2   = 0.0000\n",
      "Log pseudolikelihood = -639.12443                       Pseudo R2     = 0.0228\n",
      "\n",
      "------------------------------------------------------------------------------\n",
      "             |               Robust\n",
      "    hconeduc | Coefficient  std. err.      z    P>|z|     [95% conf. interval]\n",
      "-------------+----------------------------------------------------------------\n",
      "        race |\n",
      "      black  |   .5832639    .178695     3.26   0.001     .2330282    .9334996\n",
      "      other  |   .5424274   .2000225     2.71   0.007     .1503906    .9344643\n",
      "             |\n",
      "        sex1 |\n",
      "     Female  |   .2658825   .1334694     1.99   0.046     .0042873    .5274776\n",
      "             |\n",
      "   education |\n",
      "Some/Coll~e  |  -.4109497   .1445387    -2.84   0.004    -.6942404   -.1276591\n",
      "High/Grad~e  |   .0355174   .2006556     0.18   0.860    -.3577604    .4287951\n",
      "             |\n",
      "       _cons |  -.4339333   .1320478    -3.29   0.001    -.6927423   -.1751243\n",
      "------------------------------------------------------------------------------\n",
      "(est2 stored)\n",
      "\n",
      "Conditional marginal effects                               Number of obs = 959\n",
      "Model VCE: Robust\n",
      "\n",
      "Expression: Pr(hconeduc), predict()\n",
      "dy/dx wrt:  2.race 3.race 2.sex1 2.education 3.education\n",
      "At: 1.race      = .6986444 (mean)\n",
      "    2.race      =  .168926 (mean)\n",
      "    3.race      = .1324296 (mean)\n",
      "    1.sex1      = .4838373 (mean)\n",
      "    2.sex1      = .5161627 (mean)\n",
      "    1.education = .3879041 (mean)\n",
      "    2.education = .4577685 (mean)\n",
      "    3.education = .1543274 (mean)\n",
      "\n",
      "------------------------------------------------------------------------------\n",
      "             |            Delta-method\n",
      "             |      dy/dx   std. err.      z    P>|z|     [95% conf. interval]\n",
      "-------------+----------------------------------------------------------------\n",
      "        race |\n",
      "      black  |   .1435497   .0440881     3.26   0.001     .0571387    .2299607\n",
      "      other  |   .1333587   .0495289     2.69   0.007     .0362838    .2304336\n",
      "             |\n",
      "        sex1 |\n",
      "     Female  |   .0647776   .0323998     2.00   0.046     .0012752    .1282801\n",
      "             |\n",
      "   education |\n",
      "Some/Coll~e  |  -.0996388   .0349021    -2.85   0.004    -.1680456   -.0312319\n",
      "High/Grad~e  |    .008853   .0500341     0.18   0.860    -.0892121    .1069181\n",
      "------------------------------------------------------------------------------\n",
      "Note: dy/dx for factor levels is the discrete change from the base level.\n",
      "(est3 stored)\n"
     ]
    }
   ],
   "source": [
    "eststo: logit hconeduc i.race i.sex1 i.education, ro\n",
    "eststo: margins, dydx(*) post atmeans"
   ]
  },
  {
   "cell_type": "code",
   "execution_count": 23,
   "metadata": {
    "tags": []
   },
   "outputs": [
    {
     "name": "stdout",
     "output_type": "stream",
     "text": [
      "\n",
      "Unexpontiated Coefficients\n",
      "---------------------------------------------------------------\n",
      "                      (1)              (2)              (3)    \n",
      "                      OLS     MLE / logi~c     MLE margin~s    \n",
      "---------------------------------------------------------------\n",
      "main                                                           \n",
      "1.race               0.00             0.00             0.00    \n",
      "                      (.)              (.)              (.)    \n",
      "1.sex1               0.00             0.00             0.00    \n",
      "                      (.)              (.)              (.)    \n",
      "1.education          0.00             0.00             0.00    \n",
      "                      (.)              (.)              (.)    \n",
      "_cons                0.39 ***        -0.43 **                  \n",
      "                   (0.03)           (0.13)                     \n",
      "---------------------------------------------------------------\n",
      "N                     959              959              959    \n",
      "---------------------------------------------------------------\n",
      "^ p<.1, * p<.05, ** p<.01, *** p<.001\n"
     ]
    }
   ],
   "source": [
    "esttab ///\n",
    ", cells(b(star fmt(2)) se(fmt(2) par)) stardetach  ///\n",
    "\tlegend starlevels(^ .1 * .05 ** .01 *** .001) ///\n",
    "mlabels(\"OLS\" \"MLE / logistic\" \"MLE marginal effects\") title(\"Unexpontiated Coefficients\") ///\n",
    "collabels(none) keep(1.race 1.sex1 1.education _cons)"
   ]
  },
  {
   "cell_type": "code",
   "execution_count": 24,
   "metadata": {
    "tags": []
   },
   "outputs": [
    {
     "name": "stdout",
     "output_type": "stream",
     "text": [
      "\n",
      "Odds Ratio\n",
      "---------------------------------------------------------------\n",
      "                      (1)              (2)              (3)    \n",
      "                      OLS     MLE / logi~c     MLE margin~s    \n",
      "---------------------------------------------------------------\n",
      "main                                                           \n",
      "1.race               1.00             1.00             1.00    \n",
      "                      (.)              (.)              (.)    \n",
      "1.sex1               1.00             1.00             1.00    \n",
      "                      (.)              (.)              (.)    \n",
      "1.education          1.00             1.00             1.00    \n",
      "                      (.)              (.)              (.)    \n",
      "---------------------------------------------------------------\n",
      "N                     959              959              959    \n",
      "---------------------------------------------------------------\n",
      "Exponentiated coefficients\n",
      "^ p<.1, * p<.05, ** p<.01, *** p<.001\n"
     ]
    }
   ],
   "source": [
    "esttab ///\n",
    ", cells(b(star fmt(2)) se(fmt(2) par)) stardetach  ///\n",
    "\tlegend starlevels(^ .1 * .05 ** .01 *** .001) ///\n",
    "mlabels(\"OLS\" \"MLE / logistic\" \"MLE marginal effects\") title(\"Odds Ratio\") ///\n",
    "collabels(none) keep(1.race 1.sex1 1.education _cons) eform"
   ]
  },
  {
   "cell_type": "markdown",
   "metadata": {},
   "source": [
    "### 3. Interpret your results [1 pt]\n",
    "\n",
    "Write a couple sentences answering each of the following questions:\n",
    "\n",
    "    A. How would you interpret the relationship between your dependent variable(s) (DVs) and independent variables (IVs) based on the odds ratios for you MLE logistic model?\n",
    "\n",
    "    B. Do the overall estimates support or contradict your hypotheses? Why?\n",
    "    \n",
    "    C. Is there anything suprising in your model estimates? Why?\n",
    "    \n",
    "    D. How do the OLS coefficients and their standard errors compare to the MLE estimates? Are the coefficients and standard errors larger or smaller?"
   ]
  },
  {
   "cell_type": "markdown",
   "metadata": {},
   "source": [
    "The odds of having a higher confidence in education is 0% more for people who are black another country to compared people who are white. The odds of having a higher confidence in education is also 0% more for women compared to men. When comparing the differences in educational attainment odds there is also a 0% difference.\n",
    "\n",
    "For every one unit increase in all measured variables, there is a 0% increase in the confidence of respondents to education. A result like this indicates that the predictor/independent variable (race, sex, as well as educational attainment) has either no effect or a very small/negligible effect on the outcome/dependent variable (confidence in education).\n",
    "\n",
    "The results do not provide supporting evidence for my hypothesis. I expected to find that white memn who are highly educated will have a higher confidence level in education. Surprisingly, there appears to be no relationship between the variables and their confidence level in education in the United States. \n",
    "\n",
    "My independent variables (race, educational attainment, and sex) have no effect on people's confidence in education.  I expected a relationship (may it be positive or negative) between the independent variables and the dependent variable, thus my result my imply that the relationship may either false/ non exisitng or maybe I am not includind the right variables.\n",
    "\n",
    "There is virtually no difference in the results."
   ]
  }
 ],
 "metadata": {
  "kernelspec": {
   "display_name": "Stata (nbstata)",
   "language": "stata",
   "name": "nbstata"
  },
  "language_info": {
   "file_extension": ".do",
   "mimetype": "text/x-stata",
   "name": "stata",
   "version": "17"
  }
 },
 "nbformat": 4,
 "nbformat_minor": 4
}
