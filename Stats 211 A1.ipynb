{
 "cells": [
  {
   "cell_type": "code",
   "execution_count": 14,
   "metadata": {
    "nbgrader": {
     "grade": false,
     "grade_id": "cell-b22b7a7ab2c2897a",
     "locked": true,
     "schema_version": 3,
     "solution": false,
     "task": false
    },
    "tags": []
   },
   "outputs": [],
   "source": [
    "*Grad stats 2 problem set 1"
   ]
  },
  {
   "cell_type": "markdown",
   "metadata": {
    "nbgrader": {
     "grade": false,
     "grade_id": "cell-45d9dcb89e9e0cb0",
     "locked": true,
     "schema_version": 3,
     "solution": false,
     "task": false
    },
    "tags": []
   },
   "source": [
    "## 1. Set your current directory and download Charlie's dataset or your own data set using the \"copy\" command followed by \"import delimited\" or \"use\" depending on the format of your data [5 points]"
   ]
  },
  {
   "cell_type": "code",
   "execution_count": 15,
   "metadata": {
    "tags": []
   },
   "outputs": [
    {
     "name": "stdout",
     "output_type": "stream",
     "text": [
      "(52 vars, 205,262 obs)\n",
      "(197,685 observations deleted)\n"
     ]
    }
   ],
   "source": [
    "*Error saving my file rirectory because I am saving the file in one drive \n",
    "* cd /Users/hunter/Library/CloudStorage/OneDrive-UniversityofCaliforniaMerced/SOC/Stats for SOC/Stats SOC 211/Stats 211 A1.ipynb\n",
    "copy \"https://raw.githubusercontent.com/HigherEdData/Private-Equity-and-For-Profit-Colleges-as-Agile-Predators/master/agilepredatorsdata20191116.csv\" ///\n",
    "agilepredatorsdata20191116.csv, replace\n",
    "\n",
    "insheet using \"agilepredatorsdata20191116.csv\", comma clear \n",
    "keep if year==2014\n"
   ]
  },
  {
   "cell_type": "markdown",
   "metadata": {},
   "source": [
    "## 2. list all of the variable names in the dataset using the \"ds\" command with the appropriate varwidth specification [1 point]"
   ]
  },
  {
   "cell_type": "code",
   "execution_count": 16,
   "metadata": {
    "tags": []
   },
   "outputs": [
    {
     "name": "stdout",
     "output_type": "stream",
     "text": [
      "all_under                 idx_gr                    pe_ind\n",
      "all_under_w               idx_sfa                   peacqu\n",
      "chain                     inst_name_new             peswitcherall\n",
      "dist_black_share_w        investevent               peswitchsystemall\n",
      "dist_fed_grant_pct_w      ipo                       po_ind\n",
      "dist_hisp_share_w         loan_amount_borrower_c_w  poacqu\n",
      "dist_pell_s               not_pe_po                 poswitcherall\n",
      "dist_white_share_w        online                    poswitchsystemall\n",
      "fed_grant_pct_w           owner_pe                  selective\n",
      "grad_rate_150_p2yr_w      pct2yrchrtgrbkaat_w       state_n\n",
      "grad_rate_150_p4yr_w      pct2yrchrtgrhispt_w       systemid\n",
      "grad_rate_150_p_w         pct2yrchrtgrwhitt_w       systemnm\n",
      "grtotltallgradchrt        pct4yrchrtgrbkaat_w       total_enrollment\n",
      "grtotltchrt2yr            pct4yrchrtgrhispt_w       tuitionall_c_w\n",
      "grtotltchrt4yr            pct4yrchrtgrwhitt_w       unitid\n",
      "iclevel                   pctchrtgrbkaat_w          year\n",
      "idx_ef                    pctchrtgrhispt_w\n",
      "idx_f                     pctchrtgrwhitt_w\n"
     ]
    }
   ],
   "source": [
    "ds, varwidth(29) alpha"
   ]
  },
  {
   "cell_type": "markdown",
   "metadata": {},
   "source": [
    "## 3. Use the help magic to print the help documenation for the **\"sum\"** command. If you need information on the help magic, see here: https://nbviewer.jupyter.org/github/kylebarron/stata_kernel/blob/master/examples/Example.ipynb [1 pt]"
   ]
  },
  {
   "cell_type": "code",
   "execution_count": 17,
   "metadata": {
    "tags": []
   },
   "outputs": [
    {
     "data": {
      "text/html": [
       "\n",
       "<html>\n",
       "<head>\n",
       "<meta content=\"noindex, nofollow\" name=\"robots\"/>\n",
       "<title>Stata 18 help for sum</title>\n",
       "<link href=\"/includes/css/stylehelp.css\" rel=\"stylesheet\" type=\"text/css\"/>\n",
       "<style type=\"text/css\">h2 {\n",
       "    font-family: Arial,Helvetica,Helv,sans-serif;\n",
       "    color: #000000;\n",
       "}\n",
       "\n",
       "pre {\n",
       "    margin: 10px;\n",
       "}\n",
       "\n",
       "table {\n",
       "    background-color: transparent;\n",
       "    border-color: transparent;\n",
       "    bgcolor: transparent;\n",
       "}\n",
       "\n",
       "tr {\n",
       "    background-color: transparent;\n",
       "    border-color: transparent;\n",
       "    bgcolor: transparent;\n",
       "}\n",
       "\n",
       "body {\n",
       "    background-color: transparent;\n",
       "    border-color: transparent;\n",
       "    margin: 0px;\n",
       "}\n",
       "\n",
       "div {\n",
       "    background-color: transparent;\n",
       "    border-color: transparent;\n",
       "}\n",
       "</style>\n",
       "</head>\n",
       "<body>\n",
       "\n",
       "<p><table align=\"center\" bgcolor=\"transparent\" border=\"1\" cellpadding=\"5\" cellspacing=\"0\">\n",
       "<tr bgcolor=\"transparent\"><td align=\"left\" bgcolor=\"transparent\" valign=\"top\">\n",
       "<!-- END HEAD -->\n",
       "\n",
       "<pre>\n",
       "<p>                  +----------------------------------------+\n",
       "                  | See             |  For the             |\n",
       "                  |-----------------+----------------------|\n",
       "                  |                 |                      |\n",
       "                  | help <a href=\"https://www.stata.com/help.cgi?summarize\" target=\"_blank\"><b>summarize</b></a>  |  <b><u>su</u></b><b>mmarize</b> command   |\n",
       "                  |                 |                      |\n",
       "                  | help <a href=\"https://www.stata.com/help.cgi?sum%28%29\" target=\"_blank\"><b>sum()</b></a>      |  <b>sum()</b> function      |\n",
       "                  |                 |                      |\n",
       "                  +----------------------------------------+\n",
       "</p></pre>\n",
       "<!-- BEGIN FOOT -->\n",
       "</td></tr></table>\n",
       "\n",
       "\n",
       "\n",
       "</p></body>\n",
       "</html>\n"
      ],
      "text/plain": [
       "This front-end cannot display HTML help."
      ]
     },
     "metadata": {},
     "output_type": "display_data"
    }
   ],
   "source": [
    "%help sum"
   ]
  },
  {
   "cell_type": "markdown",
   "metadata": {},
   "source": [
    "## 4. Use the **\"drop\"** command with an **if statement** to drop schools if they are **state**, **community**, or **non-proft** in the **owner_pe** variable. Use the \"keep\" command and an if statement to only keep observations if the year is 2014, then use the summarize command with the **\"detail\"** specification to summarize the variable **\"dist_pell_s\"**. This variable measures a school's Pell Grant revenue per student. If you are working with your own data, use the **drop, keep, and summarize** commands to narrow your dataset in some systematic way and summarize an **interval ratio** variable. [5 pts]\n",
    "\n",
    "The variables, the state, community, non-profit ownership types were dropped and we kept schools only in the year 2014 in the owner_pe variable because we're interested in for-profit colleges for the analysis."
   ]
  },
  {
   "cell_type": "code",
   "execution_count": 18,
   "metadata": {},
   "outputs": [],
   "source": [
    "label var owner_pe \"ownership form\" // adding a lable to an unlabled var "
   ]
  },
  {
   "cell_type": "code",
   "execution_count": 19,
   "metadata": {
    "tags": []
   },
   "outputs": [
    {
     "name": "stdout",
     "output_type": "stream",
     "text": [
      "\n",
      "-------------------------------------------------------------------------------\n",
      "owner_pe                                                         ownership form\n",
      "-------------------------------------------------------------------------------\n",
      "\n",
      "                  Type: String (str15)\n",
      "\n",
      "         Unique values: 6                         Missing \"\": 0/7,577\n",
      "\n",
      "            Tabulation: Freq.  Value\n",
      "                        1,302  \"Community\"\n",
      "                        1,920  \"Non-profit\"\n",
      "                          552  \"Private equity\"\n",
      "                        2,167  \"Privately held\"\n",
      "                          922  \"Publicly traded\"\n",
      "                          714  \"State\"\n",
      "\n",
      "               Warning: Variable has embedded blanks.\n"
     ]
    }
   ],
   "source": [
    "codebook owner_pe"
   ]
  },
  {
   "cell_type": "code",
   "execution_count": 20,
   "metadata": {
    "tags": []
   },
   "outputs": [
    {
     "name": "stdout",
     "output_type": "stream",
     "text": [
      "\n",
      " ownership form |      Freq.     Percent        Cum.\n",
      "----------------+-----------------------------------\n",
      "      Community |      1,302       17.18       17.18\n",
      "     Non-profit |      1,920       25.34       42.52\n",
      " Private equity |        552        7.29       49.81\n",
      " Privately held |      2,167       28.60       78.41\n",
      "Publicly traded |        922       12.17       90.58\n",
      "          State |        714        9.42      100.00\n",
      "----------------+-----------------------------------\n",
      "          Total |      7,577      100.00\n"
     ]
    }
   ],
   "source": [
    "tab owner_pe"
   ]
  },
  {
   "cell_type": "code",
   "execution_count": 21,
   "metadata": {
    "tags": []
   },
   "outputs": [
    {
     "name": "stdout",
     "output_type": "stream",
     "text": [
      "(714 observations deleted)\n"
     ]
    }
   ],
   "source": [
    "drop if owner_pe==\"State\""
   ]
  },
  {
   "cell_type": "code",
   "execution_count": 22,
   "metadata": {
    "tags": []
   },
   "outputs": [
    {
     "name": "stdout",
     "output_type": "stream",
     "text": [
      "(1,302 observations deleted)\n"
     ]
    }
   ],
   "source": [
    "drop if owner_pe==\"Community\""
   ]
  },
  {
   "cell_type": "code",
   "execution_count": 23,
   "metadata": {
    "tags": []
   },
   "outputs": [
    {
     "name": "stdout",
     "output_type": "stream",
     "text": [
      "(1,920 observations deleted)\n"
     ]
    }
   ],
   "source": [
    "drop if owner_pe==\"Non-profit\""
   ]
  },
  {
   "cell_type": "code",
   "execution_count": 24,
   "metadata": {
    "tags": []
   },
   "outputs": [
    {
     "name": "stdout",
     "output_type": "stream",
     "text": [
      "(0 observations deleted)\n"
     ]
    }
   ],
   "source": [
    "keep if year==2014"
   ]
  },
  {
   "cell_type": "code",
   "execution_count": 25,
   "metadata": {
    "tags": []
   },
   "outputs": [
    {
     "name": "stdout",
     "output_type": "stream",
     "text": [
      "\n",
      "                         dist_pell_s\n",
      "-------------------------------------------------------------\n",
      "      Percentiles      Smallest\n",
      " 1%            0              0\n",
      " 5%     1527.947              0\n",
      "10%     2359.255              0       Obs               3,318\n",
      "25%     3344.478              0       Sum of wgt.       3,318\n",
      "\n",
      "50%     4332.054                      Mean            5125.71\n",
      "                        Largest       Std. dev.      3526.453\n",
      "75%     5597.208       17901.14\n",
      "90%     8209.691       17901.14       Variance       1.24e+07\n",
      "95%      14850.2       17901.14       Skewness        2.27957\n",
      "99%     17901.14       17901.14       Kurtosis       8.685116\n"
     ]
    }
   ],
   "source": [
    "sum dist_pell_s, detail"
   ]
  },
  {
   "cell_type": "markdown",
   "metadata": {},
   "source": [
    "## 5. Create 1) a histogram and 2) a boxplot to visualize the distribution of Pell Grant revenue (or an interval ratio variable from your own dataset) in the following code cell. Then interpret the distributions in this markdown cell [3 pts]\n",
    "\n",
    "the Pell Grant Revenue is positively skewed. The majority of the data add up to be larger than the mean and median of the Pell Grant revenue."
   ]
  },
  {
   "cell_type": "code",
   "execution_count": 26,
   "metadata": {
    "collapsed": true,
    "jupyter": {
     "outputs_hidden": true
    },
    "tags": []
   },
   "outputs": [
    {
     "name": "stdout",
     "output_type": "stream",
     "text": [
      "\n",
      "[R] histogram -- Histograms for continuous and categorical variables\n",
      "                 (View complete PDF manual entry)\n",
      "\n",
      "\n",
      "Syntax\n",
      "------\n",
      "\n",
      "        histogram varname [if] [in] [weight] [, [continuous_opts |\n",
      "                  discrete_opts] options]\n",
      "\n",
      "    continuous_opts                     Description\n",
      "    -------------------------------------------------------------------------\n",
      "    Main\n",
      "      bins(#)                           set number of bins to #\n",
      "      width(#)                          set width of bins to #\n",
      "      start(#)                          set lower limit of first bin to #\n",
      "    -------------------------------------------------------------------------\n",
      "\n",
      "    discrete_opts                       Description\n",
      "    -------------------------------------------------------------------------\n",
      "    Main\n",
      "      discrete                          specify that data are discrete\n",
      "      width(#)                          set width of bins to #\n",
      "      start(#)                          set theoretical minimum value to #\n",
      "    -------------------------------------------------------------------------\n",
      "\n",
      "    options                             Description\n",
      "    -------------------------------------------------------------------------\n",
      "    Main\n",
      "      density                           draw as density; the default\n",
      "      fraction                          draw as fractions\n",
      "      frequency                         draw as frequencies\n",
      "      percent                           draw as percentages\n",
      "      bar_options                       rendition of bars\n",
      "      binrescale                        recalculate bin sizes when by() is\n",
      "                                          specified\n",
      "      addlabels                         add height labels to bars\n",
      "      addlabopts(marker_label_options)  affect rendition of labels\n",
      "\n",
      "    Density plots\n",
      "      normal                            add a normal density to the graph\n",
      "      normopts(line_options)            affect rendition of normal density\n",
      "      kdensity                          add a kernel density estimate to the\n",
      "                                          graph\n",
      "      kdenopts(kdensity_options)        affect rendition of kernel density\n",
      "\n",
      "\n",
      "    Add plots\n",
      "      addplot(plot)                     add other plots to the histogram\n",
      "\n",
      "    Y axis, X axis, Titles, Legend, Overall, By\n",
      "      twoway_options                    any options documented in [G-3]\n",
      "                                          twoway_options\n",
      "    -------------------------------------------------------------------------\n",
      "    fweights are allowed; see weight.\n",
      "\n",
      "\n",
      "Menu\n",
      "----\n",
      "\n",
      "    Graphics > Histogram\n",
      "\n",
      "\n",
      "Description\n",
      "-----------\n",
      "\n",
      "    histogram draws histograms of varname, which is assumed to be the name of\n",
      "    a continuous variable unless the discrete option is specified.\n",
      "\n",
      "    hist is a synonym for histogram.\n",
      "\n",
      "\n",
      "Links to PDF documentation\n",
      "--------------------------\n",
      "\n",
      "        Quick start\n",
      "\n",
      "        Remarks and examples\n",
      "\n",
      "    The above sections are not included in this help file.\n",
      "\n",
      "\n",
      "Options for use in the continuous case\n",
      "--------------------------------------\n",
      "\n",
      "        +------+\n",
      "    ----+ Main +-------------------------------------------------------------\n",
      "\n",
      "    bins(#) and width(#) are alternatives.  They specify how the data are to\n",
      "        be aggregated into bins: bins() by specifying the number of bins\n",
      "        (from which the width can be derived) and width() by specifying the\n",
      "        bin width (from which the number of bins can be derived).\n",
      "\n",
      "        If neither option is specified, results are the same as if bins(k)\n",
      "        had been specified, where\n",
      "\n",
      "            k = min{sqrt(N), 10*ln(N)/ln(10)}\n",
      "\n",
      "        and where N is the (weighted) number of observations.\n",
      "\n",
      "    start(#) specifies the theoretical minimum of varname.  The default is\n",
      "        start(m), where m is the observed minimum value of varname.\n",
      "\n",
      "        Specify start() when you are concerned about sparse data, for\n",
      "        instance, if you know that varname can have a value of 0, but you are\n",
      "        concerned that 0 may not be observed.\n",
      "\n",
      "        start(#), if specified, must be less than or equal to m, or else an\n",
      "        error will be issued.\n",
      "\n",
      "\n",
      "Options for use in the discrete case\n",
      "------------------------------------\n",
      "\n",
      "        +------+\n",
      "    ----+ Main +-------------------------------------------------------------\n",
      "\n",
      "    discrete specifies that varname is discrete and that you want each unique\n",
      "        value of varname to have its own bin (bar of histogram).\n",
      "\n",
      "    width(#) is rarely specified in the discrete case; it specifies the width\n",
      "        of the bins.  The default is width(d), where d is the observed\n",
      "        minimum difference between the unique values of varname.\n",
      "\n",
      "        Specify width() if you are concerned that your data are sparse.  For\n",
      "        example, in theory varname could take on the values, say, 1, 2, 3,\n",
      "        ..., 9, but because of the sparseness, perhaps only the values 2, 4,\n",
      "        7, and 8 are observed.  Here the default width calculation would\n",
      "        produce width(2), and you would want to specify width(1).\n",
      "\n",
      "    start(#) is also rarely specified in the discrete case; it specifies the\n",
      "        theoretical minimum value of varname.  The default is start(m), where\n",
      "        m is the observed minimum value.\n",
      "\n",
      "        As with width(), specify start(#) if you are concerned that your data\n",
      "        are sparse.  In the previous example, you might also want to specify\n",
      "        start(1).  start() does nothing more than add white space to the left\n",
      "        side of the graph.\n",
      "\n",
      "        The value of # in start() must be less than or equal to m, or an\n",
      "        error will be issued.\n",
      "\n",
      "\n",
      "Options for use in the continuous and discrete cases\n",
      "----------------------------------------------------\n",
      "\n",
      "        +------+\n",
      "    ----+ Main +-------------------------------------------------------------\n",
      "\n",
      "    density, fraction, frequency, and percent specify whether you want the\n",
      "        histogram scaled to density units, fractional units, frequencies, or\n",
      "        percentages.  density is the default.\n",
      "\n",
      "        density scales the height of the bars so that the sum of their areas\n",
      "        equals 1.\n",
      "\n",
      "        fraction scales the height of the bars so that the sum of their\n",
      "        heights equals 1.\n",
      "\n",
      "        frequency scales the height of the bars so that each bar's height is\n",
      "        equal to the number of observations in the category.  Thus the sum of\n",
      "        the heights is equal to the total number of observations.\n",
      "\n",
      "        percent scales the height of the bars so that the sum of their\n",
      "        heights equals 100.\n",
      "\n",
      "    bar_options are any of the options allowed by graph twoway bar; see [G-2]\n",
      "        graph twoway bar.\n",
      "\n",
      "        One of the most useful bar_options is barwidth(#), which specifies\n",
      "        the width of the bars in varname units.  By default, histogram draws\n",
      "        the bars so that adjacent bars just touch.  If you want gaps between\n",
      "        the bars, do not specify histogram's width() option -- which would\n",
      "        change how the histogram is calculated -- but specify the bar_option\n",
      "        barwidth() or the histogram option gap, both of which affect only how\n",
      "        the bar is rendered.\n",
      "\n",
      "        The bar_option horizontal cannot be used with the addlabels option.\n",
      "\n",
      "    binrescale specifies that bin size and plot range be recalculated for\n",
      "        each group when by() is specified.  If normal is specified, the mean\n",
      "        and standard deviation of each overlaid normal density plot are\n",
      "        recalculated in each group.  Similarly, if kdensity is specified, the\n",
      "        scaling of the overlaid kernel density plot is recalculated in each\n",
      "        group.\n",
      "\n",
      "    addlabels specifies that the top of each bar be labeled with the density,\n",
      "        fraction, or frequency, as determined by the density, fraction, and\n",
      "        frequency options.\n",
      "\n",
      "    addlabopts(marker_label_options) specifies how to render the labels atop\n",
      "        the bars.  See [G-3] marker_label_options.  Do not specify the\n",
      "        marker_label_option mlabel(varname), which specifies the variable to\n",
      "        be used; this is specified for you by histogram.\n",
      "\n",
      "        addlabopts() will accept more options than those documented in [G-3]\n",
      "        marker_label_options.  All options allowed by twoway scatter are also\n",
      "        allowed by addlabopts(); see [G-2] graph twoway scatter.  One\n",
      "        particularly useful option is yvarformat(); see [G-3]\n",
      "        advanced_options.\n",
      "\n",
      "        +---------------+\n",
      "    ----+ Density plots +----------------------------------------------------\n",
      "\n",
      "    normal specifies that the histogram be overlaid with an appropriately\n",
      "        scaled normal density.  The normal will have the same mean and\n",
      "        standard deviation as the data.\n",
      "\n",
      "    normopts(line_options) specifies details about the rendition of the\n",
      "        normal curve, such as the color and style of line used.  See [G-2]\n",
      "        graph twoway line.\n",
      "\n",
      "    kdensity specifies that the histogram be overlaid with an appropriately\n",
      "        scaled kernel density estimate of the density.  By default, the\n",
      "        estimate will be produced using the Epanechnikov kernel with an\n",
      "        \"optimal\" half-width.  This default corresponds to the default of\n",
      "        kdensity; see [R] kdensity.  How the estimate is produced can be\n",
      "        controlled using the kdenopts() option described below.\n",
      "\n",
      "    kdenopts(kdensity_options) specifies details about how the kernel density\n",
      "        estimate is to be produced along with details about the rendition of\n",
      "        the resulting curve, such as the color and style of line used.  The\n",
      "        kernel density estimate is described in [G-2] graph twoway kdensity.\n",
      "        As an example, if you wanted to produce kernel density estimates by\n",
      "        using the Gaussian kernel with optimal half-width, you would specify\n",
      "        kdenopts(gauss) and if you also wanted a half-width of 5, you would\n",
      "        specify kdenopts(gauss width(5)).\n",
      "\n",
      "        +-----------+\n",
      "    ----+ Add plots +--------------------------------------------------------\n",
      "\n",
      "    addplot(plot) allows adding more graph twoway plots to the graph; see\n",
      "        [G-3] addplot_option.\n",
      "\n",
      "        +---------------------------------------------+\n",
      "    ----+ Y axis, X axis, Titles, Legend, Overall, By +----------------------\n",
      "\n",
      "    twoway_options are any of the options documented in [G-3] twoway_options.\n",
      "        This includes, most importantly, options for titling the graph (see\n",
      "        [G-3] title_options), options for saving the graph to disk (see [G-3]\n",
      "        saving_option), and the by() option, which will allow you to\n",
      "        simultaneously graph histograms for different subsets of the data\n",
      "        (see [G-3] by_option).\n",
      "\n",
      "\n",
      "Examples\n",
      "--------\n",
      "\n",
      "    ---------------------------------------------------------------------------\n",
      "    Setup\n",
      "        . sysuse sp500\n",
      "\n",
      "    Create a histogram of volume\n",
      "        . histogram volume\n",
      "\n",
      "    Same as above, but add a normal density curve\n",
      "        . histogram volume, normal\n",
      "\n",
      "    Same as above, but also add a kernel density estimate\n",
      "        . histogram volume, normal kdensity\n",
      "\n",
      "    ---------------------------------------------------------------------------\n",
      "\n",
      "    Setup\n",
      "        . sysuse auto\n",
      "\n",
      "    Create a histogram with a bin for each of the 21 unique values\n",
      "        . histogram mpg, discrete\n",
      "\n",
      "    Same as above, but show frequencies on the y axis, add a report of\n",
      "    frequencies above the bars, and label the values 12, 14, ..., 42 on the x\n",
      "    axis\n",
      "        . histogram mpg, discrete freq addlabels xlabel(12(2)42)\n",
      "\n",
      "    ---------------------------------------------------------------------------\n",
      "\n",
      "Video example\n",
      "-------------\n",
      "\n",
      "    Histograms in Stata\n",
      "\n",
      "\n",
      "Reference\n",
      "---------\n",
      "\n",
      "    Pollock, P. H. III.  2011.  A Stata Companion to Political Analysis. 2nd\n",
      "        ed.  Washington, DC: CQ Press.\n"
     ]
    }
   ],
   "source": [
    "help histogram"
   ]
  },
  {
   "cell_type": "code",
   "execution_count": 27,
   "metadata": {
    "tags": []
   },
   "outputs": [
    {
     "name": "stdout",
     "output_type": "stream",
     "text": [
      "(bin=35, start=0, width=511.46116)\n"
     ]
    },
    {
     "data": {
      "image/png": "[encoded data removed]",
      "text/plain": [
       "<IPython.core.display.Image object>"
      ]
     },
     "metadata": {},
     "output_type": "display_data"
    }
   ],
   "source": [
    "histogram dist_pell_s"
   ]
  },
  {
   "cell_type": "code",
   "execution_count": 28,
   "metadata": {
    "tags": []
   },
   "outputs": [
    {
     "data": {
      "image/png": "[encoded data removed]",
      "text/plain": [
       "<IPython.core.display.Image object>"
      ]
     },
     "metadata": {},
     "output_type": "display_data"
    }
   ],
   "source": [
    "graph box dist_pell_s"
   ]
  },
  {
   "cell_type": "code",
   "execution_count": 29,
   "metadata": {},
   "outputs": [
    {
     "name": "stdout",
     "output_type": "stream",
     "text": [
      "(bin=35, start=0, width=511.46116)\n"
     ]
    },
    {
     "data": {
      "image/png": "[encoded data removed]",
      "text/plain": [
       "<IPython.core.display.Image object>"
      ]
     },
     "metadata": {},
     "output_type": "display_data"
    }
   ],
   "source": [
    "histogram dist_pell_s, xtitle(Pell Grant Revenue)"
   ]
  },
  {
   "cell_type": "markdown",
   "metadata": {
    "jp-MarkdownHeadingCollapsed": true,
    "tags": []
   },
   "source": [
    "## 6. Students at for-profit colleges have especially poor graduation rates at 4-year degree schools. In Eaton(2020) and Eaton, Howell, & Yannelis (2019), I've argued argued that for-profit colleges are more predatory under publicly traded and private equity ownership. Based on this theory, write a hypothesis about the relationship between whether a school offers 4-year or lower degrees and for-profit college ownership. Explain what is the independent variable and dependent variable and why? If you are working with your own data, do the same for a relationship between two **nominal** variables in your data. [4 pts]\n",
    "1. I hypothesize that the For-profit college ownerships under publicly traded and private equity ownership offer more lower than 4 years degrees that are more predetory in nature. \n",
    "2. The independent variable is the ownership form and the dependent variable is the level of degree offerings. The level of degree offerings (iclevel) depends on the onwership form of the colleges (owner_pe)."
   ]
  },
  {
   "cell_type": "markdown",
   "metadata": {
    "tags": []
   },
   "source": [
    "## 7a. Create a frequency table for colleges by their **level of degree offerings (iclevel)** and **ownership form (owner_pe)**. Make sure the dependent variable is listed first, making its values the row values. Stata doesn't like string variables, so use the commande **encode** with the **gen** specification to create encoded **iclevel2** and **owner_pe2** variables to use. If you are working with your own data, do the same for the two variables you hypothesized about. [3 pts]"
   ]
  },
  {
   "cell_type": "code",
   "execution_count": 30,
   "metadata": {
    "collapsed": true,
    "jupyter": {
     "outputs_hidden": true
    },
    "tags": []
   },
   "outputs": [
    {
     "name": "stdout",
     "output_type": "stream",
     "text": [
      "\n",
      "[D] encode -- Encode string into numeric and vice versa\n",
      "              (View complete PDF manual entry)\n",
      "\n",
      "\n",
      "Syntax\n",
      "------\n",
      "\n",
      "    String variable to numeric variable\n",
      "\n",
      "        encode varname [if] [in] , generate(newvar) [label(name) noextend]\n",
      "\n",
      "\n",
      "    Numeric variable to string variable\n",
      "\n",
      "        decode varname [if] [in] , generate(newvar) [maxlength(#)]\n",
      "\n",
      "\n",
      "Menu\n",
      "----\n",
      "\n",
      "    encode\n",
      "    ------\n",
      "\n",
      "        Data > Create or change data > Other variable-transformation commands\n",
      "            > Encode value labels from string variable\n",
      "\n",
      "    decode\n",
      "    ------\n",
      "\n",
      "        Data > Create or change data > Other variable-transformation commands\n",
      "            > Decode strings from labeled numeric variable\n",
      "\n",
      "\n",
      "Description\n",
      "-----------\n",
      "\n",
      "    encode creates a new variable named newvar based on the string variable \n",
      "    varname, creating, adding to, or just using (as necessary) the value\n",
      "    label newvar or, if specified, name.  Do not use encode if varname\n",
      "    contains numbers that merely happen to be stored as strings; instead, use\n",
      "    generate newvar = real(varname) or destring; see real() or [D] destring.\n",
      "\n",
      "    decode creates a new string variable named newvar based on the \"encoded\"\n",
      "    numeric variable varname and its value label.\n",
      "\n",
      "\n",
      "Links to PDF documentation\n",
      "--------------------------\n",
      "\n",
      "        Quick start\n",
      "\n",
      "        Remarks and examples\n",
      "\n",
      "    The above sections are not included in this help file.\n",
      "\n",
      "\n",
      "Options for encode\n",
      "------------------\n",
      "\n",
      "    generate(newvar) is required and specifies the name of the variable to be\n",
      "        created.\n",
      "\n",
      "    label(name) specifies the name of the value label to be created or used\n",
      "        and added to if the named value label already exists.  If label() is\n",
      "        not specified, encode uses the same name for the label as it does for\n",
      "        the new variable.\n",
      "\n",
      "    noextend specifies that varname not be encoded if there are values\n",
      "        contained in varname that are not present in label(name).  By\n",
      "        default, any values not present in label(name) will be added to that\n",
      "        label.\n",
      "\n",
      "\n",
      "Options for decode\n",
      "------------------\n",
      "\n",
      "    generate(newvar) is required and specifies the name of the variable to be\n",
      "        created.\n",
      "\n",
      "    maxlength(#) specifies how many bytes of the value label to retain; #\n",
      "        must be between 1 and 32,000.  The default is maxlength(32000).\n",
      "\n",
      "\n",
      "Examples\n",
      "--------\n",
      "\n",
      "    ---------------------------------------------------------------------------\n",
      "    Setup\n",
      "        . webuse hbp2\n",
      "        . describe sex\n",
      "\n",
      "    Create numeric variable gender based on the string variable sex and\n",
      "    create value label gender\n",
      "        . encode sex, generate(gender)\n",
      "\n",
      "    List values of sex and gender\n",
      "        . list sex gender in 1/4\n",
      "\n",
      "    List values of sex and gender, but show numeric values of gender rather\n",
      "    than the labels\n",
      "        . list sex gender in 1/4, nolabel\n",
      "\n",
      "    List the names and contents of the gender value label\n",
      "        . label list gender\n",
      "\n",
      "    ---------------------------------------------------------------------------\n",
      "    Setup\n",
      "        . webuse hbp2, clear\n",
      "        . describe sex\n",
      "\n",
      "    Create numeric variable gender based on the string variable sex and\n",
      "    create value label sexlbl\n",
      "        . encode sex, generate(gender) label(sexlbl)\n",
      "\n",
      "    Describe the gender variable\n",
      "        . describe gender\n",
      "\n",
      "    ---------------------------------------------------------------------------\n",
      "    Setup\n",
      "        . webuse hbp2, clear\n",
      "        . describe sex\n",
      "\n",
      "    Create value label gender\n",
      "        . label define gender 1 \"female\" 2 \"male\"\n",
      "\n",
      "    Change the value of sex in the second observation to other\n",
      "        . replace sex = \"other\" in 2\n",
      "\n",
      "    Create numeric variable gender based on the string variable sex, adding\n",
      "    to value label gender as necessary\n",
      "        . encode sex, generate(gender)\n",
      "\n",
      "    List the names and contents of the gender value label\n",
      "        . label list gender\n",
      "\n",
      "    ---------------------------------------------------------------------------\n",
      "    Setup\n",
      "        . webuse hbp3, clear\n",
      "        . describe female\n",
      "        . label list sexlbl\n",
      "\n",
      "    Create string variable sex based on the numeric variable female\n",
      "        . decode female, generate(sex)\n",
      "\n",
      "    Describe variable sex\n",
      "        . describe sex\n",
      "\n",
      "    List values of female and sex\n",
      "        . list female sex in 1/4\n",
      "\n",
      "    List values of female and sex, but show numeric values of female rather\n",
      "    than the labels\n",
      "        . list female sex in 1/4, nolabel\n",
      "    ---------------------------------------------------------------------------\n",
      "\n",
      "\n",
      "Video example\n",
      "-------------\n",
      "\n",
      "        How to convert categorical string variables to labeled numeric\n",
      "            variables\n"
     ]
    }
   ],
   "source": [
    "help encode"
   ]
  },
  {
   "cell_type": "code",
   "execution_count": 31,
   "metadata": {
    "tags": []
   },
   "outputs": [],
   "source": [
    "encode iclevel, generate(iclevel2)"
   ]
  },
  {
   "cell_type": "code",
   "execution_count": 32,
   "metadata": {
    "tags": []
   },
   "outputs": [
    {
     "name": "stdout",
     "output_type": "stream",
     "text": [
      "\n",
      "Variable      Storage   Display    Value\n",
      "    name         type    format    label      Variable label\n",
      "-------------------------------------------------------------------------------\n",
      "iclevel         str35   %35s                  \n"
     ]
    }
   ],
   "source": [
    "describe iclevel "
   ]
  },
  {
   "cell_type": "code",
   "execution_count": 33,
   "metadata": {
    "tags": []
   },
   "outputs": [
    {
     "name": "stdout",
     "output_type": "stream",
     "text": [
      "\n",
      "Variable      Storage   Display    Value\n",
      "    name         type    format    label      Variable label\n",
      "-------------------------------------------------------------------------------\n",
      "iclevel2        long    %35.0g     iclevel2   \n"
     ]
    }
   ],
   "source": [
    "describe iclevel2"
   ]
  },
  {
   "cell_type": "code",
   "execution_count": 34,
   "metadata": {
    "tags": []
   },
   "outputs": [],
   "source": [
    "encode owner_pe, generate(owner_pe2)"
   ]
  },
  {
   "cell_type": "code",
   "execution_count": 35,
   "metadata": {
    "tags": []
   },
   "outputs": [
    {
     "name": "stdout",
     "output_type": "stream",
     "text": [
      "\n",
      "Variable      Storage   Display    Value\n",
      "    name         type    format    label      Variable label\n",
      "-------------------------------------------------------------------------------\n",
      "owner_pe2       long    %15.0g     owner_pe2\n",
      "                                              ownership form\n"
     ]
    }
   ],
   "source": [
    "describe owner_pe2"
   ]
  },
  {
   "cell_type": "code",
   "execution_count": 36,
   "metadata": {
    "tags": []
   },
   "outputs": [
    {
     "name": "stdout",
     "output_type": "stream",
     "text": [
      "\n",
      "                      |          ownership form\n",
      "             iclevel2 | Private e  Privately  Publicly  |     Total\n",
      "----------------------+---------------------------------+----------\n",
      "At least 2 but less t |       216        612        232 |     1,060 \n",
      "   Four or more years |       104        191        495 |       790 \n",
      "Less than 2 years (be |       232      1,364        195 |     1,791 \n",
      "----------------------+---------------------------------+----------\n",
      "                Total |       552      2,167        922 |     3,641 \n"
     ]
    }
   ],
   "source": [
    "tab iclevel2 owner_pe2"
   ]
  },
  {
   "cell_type": "markdown",
   "metadata": {},
   "source": [
    "## 7b. Create a horizontal bar graph using the **graph hbar** command with the **over** specification to plot the percentage of schools with degree levels within each ownership form. Use the **xi** command with the **noomit** option to create a dummy variable for iclevel. Do the same with your variables of interest if you are using your own data. [3 pts]"
   ]
  },
  {
   "cell_type": "code",
   "execution_count": 37,
   "metadata": {
    "tags": []
   },
   "outputs": [
    {
     "data": {
      "image/png": "[encoded data removed]",
      "text/plain": [
       "<IPython.core.display.Image object>"
      ]
     },
     "metadata": {},
     "output_type": "display_data"
    }
   ],
   "source": [
    "graph hbar (percent)iclevel2, over(owner_pe2)"
   ]
  },
  {
   "cell_type": "code",
   "execution_count": 39,
   "metadata": {},
   "outputs": [
    {
     "name": "stdout",
     "output_type": "stream",
     "text": [
      "\n",
      "                            iclevel |      Freq.     Percent        Cum.\n",
      "------------------------------------+-----------------------------------\n",
      "   At least 2 but less than 4 years |      1,060       29.11       29.11\n",
      "                 Four or more years |        790       21.70       50.81\n",
      "Less than 2 years (below associate) |      1,791       49.19      100.00\n",
      "------------------------------------+-----------------------------------\n",
      "                              Total |      3,641      100.00\n"
     ]
    }
   ],
   "source": [
    "tab iclevel"
   ]
  },
  {
   "cell_type": "code",
   "execution_count": 40,
   "metadata": {
    "tags": []
   },
   "outputs": [],
   "source": [
    "xi i.iclevel, noomit // dummy vr for ic level"
   ]
  },
  {
   "cell_type": "code",
   "execution_count": 86,
   "metadata": {
    "tags": []
   },
   "outputs": [
    {
     "data": {
      "image/png": "[encoded data removed]",
      "text/plain": [
       "<IPython.core.display.Image object>"
      ]
     },
     "metadata": {},
     "output_type": "display_data"
    }
   ],
   "source": [
    "graph hbar _Iiclevel_*, over(owner_pe2)"
   ]
  },
  {
   "cell_type": "code",
   "execution_count": 77,
   "metadata": {
    "collapsed": true,
    "jupyter": {
     "outputs_hidden": true
    },
    "tags": []
   },
   "outputs": [
    {
     "data": {
      "text/html": [
       "\n",
       "<html>\n",
       "<head>\n",
       "<meta content=\"noindex, nofollow\" name=\"robots\"/>\n",
       "<title>Stata 18 help for graph</title>\n",
       "<link href=\"/includes/css/stylehelp.css\" rel=\"stylesheet\" type=\"text/css\"/>\n",
       "<style type=\"text/css\">h2 {\n",
       "    font-family: Arial,Helvetica,Helv,sans-serif;\n",
       "    color: #000000;\n",
       "}\n",
       "\n",
       "pre {\n",
       "    margin: 10px;\n",
       "}\n",
       "\n",
       "table {\n",
       "    background-color: transparent;\n",
       "    border-color: transparent;\n",
       "    bgcolor: transparent;\n",
       "}\n",
       "\n",
       "tr {\n",
       "    background-color: transparent;\n",
       "    border-color: transparent;\n",
       "    bgcolor: transparent;\n",
       "}\n",
       "\n",
       "body {\n",
       "    background-color: transparent;\n",
       "    border-color: transparent;\n",
       "    margin: 0px;\n",
       "}\n",
       "\n",
       "div {\n",
       "    background-color: transparent;\n",
       "    border-color: transparent;\n",
       "}\n",
       "</style>\n",
       "</head>\n",
       "<body>\n",
       "\n",
       "<p><table align=\"center\" bgcolor=\"transparent\" border=\"1\" cellpadding=\"5\" cellspacing=\"0\">\n",
       "<tr bgcolor=\"transparent\"><td align=\"left\" bgcolor=\"transparent\" valign=\"top\">\n",
       "<!-- END HEAD -->\n",
       "\n",
       "<pre>\n",
       "<p><b>[G-2] graph</b> -- The graph command\n",
       "<p><p><a name=\"syntax\"></a><b><u>Syntax</u></b>\n",
       "<p>        <b><u>gr</u></b><b>aph</b> ...\n",
       "<p>    The commands that draw graphs are\n",
       "<p>        Command                 Description\n",
       "        ---------------------------------------------------------------------\n",
       "        <a href=\"https://www.stata.com/help.cgi?twoway\" target=\"_blank\"><b>graph twoway</b></a>            scatterplots, line plots, etc.\n",
       "        <a href=\"https://www.stata.com/help.cgi?graph%2Bmatrix\" target=\"_blank\"><b>graph matrix</b></a>            scatterplot matrices\n",
       "        <a href=\"https://www.stata.com/help.cgi?graph%2Bbar\" target=\"_blank\"><b>graph bar</b></a>               bar charts\n",
       "        <a href=\"https://www.stata.com/help.cgi?graph%2Bdot\" target=\"_blank\"><b>graph dot</b></a>               dot charts\n",
       "        <a href=\"https://www.stata.com/help.cgi?graph%2Bbox\" target=\"_blank\"><b>graph box</b></a>               box-and-whisker plots\n",
       "        <a href=\"https://www.stata.com/help.cgi?graph%2Bpie\" target=\"_blank\"><b>graph pie</b></a>               pie charts\n",
       "        <a href=\"https://www.stata.com/help.cgi?graph_other\" target=\"_blank\"><i>other</i></a>                   more commands to draw statistical graphs\n",
       "        ---------------------------------------------------------------------\n",
       "<p>    The commands that save a previously drawn graph, redisplay previously\n",
       "    saved graphs, and combine graphs are\n",
       "<p>        Command                 Description\n",
       "        ---------------------------------------------------------------------\n",
       "        <a href=\"https://www.stata.com/help.cgi?graph%2Bsave\" target=\"_blank\"><b>graph save</b></a>              save graph to disk\n",
       "        <a href=\"https://www.stata.com/help.cgi?graph%2Buse\" target=\"_blank\"><b>graph use</b></a>               redisplay graph stored on disk\n",
       "        <a href=\"https://www.stata.com/help.cgi?graph%2Bdisplay\" target=\"_blank\"><b>graph display</b></a>           redisplay graph stored in memory\n",
       "        <a href=\"https://www.stata.com/help.cgi?graph%2Bcombine\" target=\"_blank\"><b>graph combine</b></a>           combine multiple graphs\n",
       "        <a href=\"https://www.stata.com/help.cgi?graph%2Breplay\" target=\"_blank\"><b>graph replay</b></a>            redisplay graphs stored in memory and on disk\n",
       "        ---------------------------------------------------------------------\n",
       "<p>    The commands for printing a graph are\n",
       "<p>        Command                 Description\n",
       "        ---------------------------------------------------------------------\n",
       "        <a href=\"https://www.stata.com/help.cgi?graph%2Bprint\" target=\"_blank\"><b>graph print</b></a>             print currently displayed graph\n",
       "        <a href=\"https://www.stata.com/help.cgi?set%2Bprintcolor\" target=\"_blank\"><b>set printcolor</b></a>          set how colors are printed\n",
       "        <a href=\"https://www.stata.com/help.cgi?graph%2Bexport\" target=\"_blank\"><b>graph export</b></a>            export .gph file to PostScript, etc.\n",
       "        ---------------------------------------------------------------------\n",
       "<p>    The commands that deal with the graphs currently stored in memory are\n",
       "<p>        Command                 Description\n",
       "        ---------------------------------------------------------------------\n",
       "        <a href=\"https://www.stata.com/help.cgi?graph%2Bdisplay\" target=\"_blank\"><b>graph display</b></a>           display graph\n",
       "        <a href=\"https://www.stata.com/help.cgi?graph%2Bdir\" target=\"_blank\"><b>graph dir</b></a>               list names\n",
       "        <a href=\"https://www.stata.com/help.cgi?graph%2Bdescribe\" target=\"_blank\"><b>graph describe</b></a>          describe contents\n",
       "        <a href=\"https://www.stata.com/help.cgi?graph%2Brename\" target=\"_blank\"><b>graph rename</b></a>            rename memory graph\n",
       "        <a href=\"https://www.stata.com/help.cgi?graph%2Bcopy\" target=\"_blank\"><b>graph copy</b></a>              copy memory graph to new name\n",
       "        <a href=\"https://www.stata.com/help.cgi?graph%2Bdrop\" target=\"_blank\"><b>graph drop</b></a>              discard graphs in memory\n",
       "        <a href=\"https://www.stata.com/help.cgi?graph%2Bclose\" target=\"_blank\"><b>graph close</b></a>             close Graph windows\n",
       "        ---------------------------------------------------------------------\n",
       "<p>    The commands that describe available schemes and allow you to identify\n",
       "    and set the default scheme are\n",
       "<p>        Command                 Description\n",
       "        ---------------------------------------------------------------------\n",
       "        <a href=\"https://www.stata.com/help.cgi?graph%2Bquery\" target=\"_blank\"><b>graph query, schemes</b></a>    list available schemes\n",
       "        <a href=\"https://www.stata.com/help.cgi?set%2Bscheme\" target=\"_blank\"><b>query graphics</b></a>          identify default scheme\n",
       "        <a href=\"https://www.stata.com/help.cgi?set%2Bscheme\" target=\"_blank\"><b>set scheme</b></a>              set default scheme\n",
       "        ---------------------------------------------------------------------\n",
       "<p>    The command that lists available styles is\n",
       "<p>        Command                 Description\n",
       "        ---------------------------------------------------------------------\n",
       "        <a href=\"https://www.stata.com/help.cgi?graph%2Bquery\" target=\"_blank\"><b>graph query</b></a>             list available styles\n",
       "        ---------------------------------------------------------------------\n",
       "<p>    The command for setting options for printing and exporting graphs is\n",
       "<p>        Command                 Description\n",
       "        ---------------------------------------------------------------------\n",
       "        <a href=\"https://www.stata.com/help.cgi?graph%2Bset\" target=\"_blank\"><b>graph set</b></a>               set graphics options\n",
       "        ---------------------------------------------------------------------\n",
       "<p>    The command that allows you to draw graphs without displaying them is\n",
       "<p>        Command                 Description\n",
       "        ---------------------------------------------------------------------\n",
       "        <a href=\"https://www.stata.com/help.cgi?set%2Bgraphics\" target=\"_blank\"><b>set graphics</b></a>            set whether graphs are displayed\n",
       "        ---------------------------------------------------------------------\n",
       "<p><p><a name=\"description\"></a><b><u>Description</u></b>\n",
       "<p>    <b>graph</b> draws graphs.\n",
       "<p><p><a name=\"remarks\"></a><b><u>Remarks</u></b>\n",
       "<p>    See <a href=\"https://www.stata.com/help.cgi?graph_intro\" target=\"_blank\"><b>[G-1] Graph intro</b></a>.\n",
       "</p></p></p></p></p></p></p></p></p></p></p></p></p></p></p></p></p></p></p></p></p></p></p></p></p></p></pre>\n",
       "<!-- BEGIN FOOT -->\n",
       "</td></tr></table>\n",
       "\n",
       "\n",
       "\n",
       "</p></body>\n",
       "</html>\n"
      ],
      "text/plain": [
       "This front-end cannot display HTML help."
      ]
     },
     "metadata": {},
     "output_type": "display_data"
    }
   ],
   "source": [
    " %help graph"
   ]
  },
  {
   "cell_type": "code",
   "execution_count": 42,
   "metadata": {
    "collapsed": true,
    "jupyter": {
     "outputs_hidden": true
    },
    "tags": []
   },
   "outputs": [
    {
     "name": "stdout",
     "output_type": "stream",
     "text": [
      "unitid        online        grad_rat~p_w  pct4yrc~at_w  peswitcher~l\n",
      "year          total_enro~t  grad_r~2yr_w  pct4yrc~pt_w  peswitchsy~l\n",
      "iclevel       grtotltc~4yr  grad_r~4yr_w  pct4yrc~tt_w  poswitcher~l\n",
      "idx_ef        grtotltc~2yr  all_under_w   state_n       poswitchsy~l\n",
      "idx_f         grtotltall~t  tuitionall~w  not_pe_po     iclevel2\n",
      "idx_sfa       all_under     fed_grant_~w  peacqu        owner_pe2\n",
      "idx_gr        chain         pctchrtgrb~w  poacqu        _Iiclevel_1\n",
      "selective     investevent   pctchrtgrw~w  dist_pell_s   _Iiclevel_2\n",
      "systemid      pe_ind        pctchrtgrh~w  dist_black~w  _Iiclevel_3\n",
      "systemnm      po_ind        pct2yrc~at_w  dist_white~w\n",
      "ipo           inst_name_~w  pct2yrc~pt_w  dist_hisp_~w\n",
      "owner_pe      loan_amoun~w  pct2yrc~tt_w  dist_fed_g~w\n"
     ]
    }
   ],
   "source": [
    "ds"
   ]
  },
  {
   "cell_type": "code",
   "execution_count": null,
   "metadata": {
    "tags": []
   },
   "outputs": [],
   "source": []
  },
  {
   "cell_type": "code",
   "execution_count": 43,
   "metadata": {
    "tags": []
   },
   "outputs": [
    {
     "name": "stdout",
     "output_type": "stream",
     "text": [
      "\n",
      "iclevel==Fo |\n",
      " ur or more |\n",
      "      years |      Freq.     Percent        Cum.\n",
      "------------+-----------------------------------\n",
      "          0 |      2,851       78.30       78.30\n",
      "          1 |        790       21.70      100.00\n",
      "------------+-----------------------------------\n",
      "      Total |      3,641      100.00\n"
     ]
    }
   ],
   "source": [
    "tab _Iiclevel_2"
   ]
  },
  {
   "cell_type": "markdown",
   "metadata": {},
   "source": [
    "## 8. Provide your interpretation of the results from the bivariate frequency table and the bar graph. Is there a relationship between ownership form and offering higher degrees? Or in your own variables if using your own data? What is the relationship in your own words, and does it fit your hypothesis?\n",
    "\n",
    "\n",
    "8.people who go to Privately held colleges earn the highest average of less than two year degree; private equity colleges give out similar rates of degrees for degrees requiring at least two but less than four years and degrees that require less than two years; publicly traded colleges reward more students with degrees that require four or more years than private equity and privately held combined."
   ]
  },
  {
   "cell_type": "markdown",
   "metadata": {},
   "source": [
    "## 9. Private equity and publicly traded ownership may lead to more predation. But privately held colleges can be predatory too. Within each ownership form, those colleges that are operated by chains may also be more likely to be predatory. Use the **chain** variable to generate another set of bivariate tables and bargraphs for **degree level (iclevel)** and **chain ownership** and for **chain ownership (chain)** and **ownership form (owner_pe)**. Do the same if you think there is another intervening variable in your own data. Then report your interpretation [5 pts]\n",
    "\n",
    "\n",
    "\n",
    "there is an even distribution across the levels of degrees offered at schools in all but for schools that offer less then 2 year degrees. These schools are less likely to be under chain ownership. In the distribution of the mean of chain ownership across ownership types, private equity is more likely to be under chain ownership. the schools who are under privately held ownership are more likely to not be under chain ownership."
   ]
  },
  {
   "cell_type": "markdown",
   "metadata": {},
   "source": [
    "[record your interpretation here]"
   ]
  },
  {
   "cell_type": "code",
   "execution_count": 44,
   "metadata": {
    "tags": []
   },
   "outputs": [
    {
     "name": "stdout",
     "output_type": "stream",
     "text": [
      "\n",
      "                      |         chain\n",
      "              iclevel |         0          1 |     Total\n",
      "----------------------+----------------------+----------\n",
      "At least 2 but less.. |       455        605 |     1,060 \n",
      "   Four or more years |       147        643 |       790 \n",
      "Less than 2 years (.. |     1,152        639 |     1,791 \n",
      "----------------------+----------------------+----------\n",
      "                Total |     1,754      1,887 |     3,641 \n"
     ]
    }
   ],
   "source": [
    "tab iclevel chain"
   ]
  },
  {
   "cell_type": "code",
   "execution_count": 45,
   "metadata": {
    "tags": []
   },
   "outputs": [
    {
     "name": "stdout",
     "output_type": "stream",
     "text": [
      "\n",
      "           |          ownership form\n",
      "     chain | Private e  Privately  Publicly  |     Total\n",
      "-----------+---------------------------------+----------\n",
      "         0 |        29      1,721          4 |     1,754 \n",
      "         1 |       523        446        918 |     1,887 \n",
      "-----------+---------------------------------+----------\n",
      "     Total |       552      2,167        922 |     3,641 \n"
     ]
    }
   ],
   "source": [
    "tab chain owner_pe2"
   ]
  },
  {
   "cell_type": "code",
   "execution_count": 46,
   "metadata": {
    "tags": []
   },
   "outputs": [
    {
     "name": "stdout",
     "output_type": "stream",
     "text": [
      "\n",
      "-------------------------------------------------------------------------------\n",
      "owner_pe                                                         ownership form\n",
      "-------------------------------------------------------------------------------\n",
      "\n",
      "                  Type: String (str15)\n",
      "\n",
      "         Unique values: 3                         Missing \"\": 0/3,641\n",
      "\n",
      "            Tabulation: Freq.  Value\n",
      "                          552  \"Private equity\"\n",
      "                        2,167  \"Privately held\"\n",
      "                          922  \"Publicly traded\"\n",
      "\n",
      "               Warning: Variable has embedded blanks.\n"
     ]
    }
   ],
   "source": [
    "codebook owner_pe"
   ]
  },
  {
   "cell_type": "code",
   "execution_count": 47,
   "metadata": {},
   "outputs": [
    {
     "name": "stdout",
     "output_type": "stream",
     "text": [
      "\n",
      "                      |         chain\n",
      "              iclevel |         0          1 |     Total\n",
      "----------------------+----------------------+----------\n",
      "At least 2 but less.. |       455        605 |     1,060 \n",
      "   Four or more years |       147        643 |       790 \n",
      "Less than 2 years (.. |     1,152        639 |     1,791 \n",
      "----------------------+----------------------+----------\n",
      "                Total |     1,754      1,887 |     3,641 \n"
     ]
    }
   ],
   "source": [
    "tab iclevel chain"
   ]
  },
  {
   "cell_type": "code",
   "execution_count": 48,
   "metadata": {
    "tags": []
   },
   "outputs": [
    {
     "data": {
      "image/png": "[encoded data removed]",
      "text/plain": [
       "<IPython.core.display.Image object>"
      ]
     },
     "metadata": {},
     "output_type": "display_data"
    }
   ],
   "source": [
    "Graph hbar (percent)chain, over(iclevel)"
   ]
  },
  {
   "cell_type": "markdown",
   "metadata": {},
   "source": [
    "## 10. Lastly, use **chain ownership** or the relevant variable for your own data as a control variable by 1) adding the specification \"bysort iclevel:\" before the \"tab command\" and 2) adding a \"by(iclevel)\" specification to the end of the graph command. Interpret the results [5 pts]\n",
    "\n",
    "\n",
    "private equity and publically traded institutions are more likely to have chains. If privately held universities offer degrees that require less than 2 years, they are also less likely to be a chain. The increase in years increases the likelihood of becoming a chain in this relationship. Privately owned are still not as likely as private equity and publically traded universities. This means that that there is not enough evidence to support our hypothesis."
   ]
  },
  {
   "cell_type": "code",
   "execution_count": 49,
   "metadata": {},
   "outputs": [
    {
     "name": "stdout",
     "output_type": "stream",
     "text": [
      "\n",
      "-------------------------------------------------------------------------------\n",
      "-> iclevel = At least 2 but less than 4 years\n",
      "\n",
      "      chain |      Freq.     Percent        Cum.\n",
      "------------+-----------------------------------\n",
      "          0 |        455       42.92       42.92\n",
      "          1 |        605       57.08      100.00\n",
      "------------+-----------------------------------\n",
      "      Total |      1,060      100.00\n",
      "\n",
      "-------------------------------------------------------------------------------\n",
      "-> iclevel = Four or more years\n",
      "\n",
      "      chain |      Freq.     Percent        Cum.\n",
      "------------+-----------------------------------\n",
      "          0 |        147       18.61       18.61\n",
      "          1 |        643       81.39      100.00\n",
      "------------+-----------------------------------\n",
      "      Total |        790      100.00\n",
      "\n",
      "-------------------------------------------------------------------------------\n",
      "-> iclevel = Less than 2 years (below associate)\n",
      "\n",
      "      chain |      Freq.     Percent        Cum.\n",
      "------------+-----------------------------------\n",
      "          0 |      1,152       64.32       64.32\n",
      "          1 |        639       35.68      100.00\n",
      "------------+-----------------------------------\n",
      "      Total |      1,791      100.00\n",
      "\n"
     ]
    }
   ],
   "source": [
    "bysort iclevel: tab chain"
   ]
  },
  {
   "cell_type": "code",
   "execution_count": 87,
   "metadata": {
    "collapsed": true,
    "jupyter": {
     "outputs_hidden": true
    },
    "tags": []
   },
   "outputs": [
    {
     "name": "stdout",
     "output_type": "stream",
     "text": [
      "\n",
      "[D] by -- Repeat Stata command on subsets of the data\n",
      "          (View complete PDF manual entry)\n",
      "\n",
      "\n",
      "Syntax\n",
      "------\n",
      "\n",
      "        by varlist: stata_cmd\n",
      "\n",
      "        bysort varlist: stata_cmd\n",
      "\n",
      "    The above diagrams show by and bysort as they are typically used.  The\n",
      "    full syntax of the commands is\n",
      "\n",
      "        by varlist1 [(varlist2)] [, sort rc0]:  stata_cmd\n",
      "\n",
      "        bysort varlist1 [(varlist2)] [, rc0]:  stata_cmd\n",
      "\n",
      "\n",
      "Description\n",
      "-----------\n",
      "\n",
      "    Most Stata commands allow the by prefix, which repeats the command for\n",
      "    each group of observations for which the values of the variables in \n",
      "    varlist are the same.  by without the sort option requires that the data\n",
      "    be sorted by varlist; see [D] sort.\n",
      "\n",
      "    Stata commands that work with the by prefix indicate this immediately\n",
      "    following their syntax diagram by reporting, for example, \"by is allowed;\n",
      "    see [D] by\" or \"bootstrap, by, etc., are allowed; see prefix\".\n",
      "\n",
      "    by and bysort are really the same command; bysort is just by with the\n",
      "    sort option.\n",
      "\n",
      "    The varlist1 (varlist2) syntax is of special use to programmers.  It\n",
      "    verifies that the data are sorted by varlist1 varlist2 and then performs\n",
      "    a by as if only varlist1 were specified.  For instance,\n",
      "\n",
      "        by pid (time): generate growth = (bp - bp[_n-1])/bp\n",
      "\n",
      "    performs the generate by values of pid but first verifies that the data\n",
      "    are sorted by pid and time within pid.\n",
      "\n",
      "\n",
      "Links to PDF documentation\n",
      "--------------------------\n",
      "\n",
      "        Quick start\n",
      "\n",
      "        Remarks and examples\n",
      "\n",
      "    The above sections are not included in this help file.\n",
      "\n",
      "\n",
      "Options\n",
      "-------\n",
      "\n",
      "    sort specifies that if the data are not already sorted by varlist, by\n",
      "        should sort them.\n",
      "\n",
      "    rc0 specifies that even if the stata_cmd produces an error in one of the\n",
      "        by-groups, then by is still to run the stata_cmd on the remaining\n",
      "        by-groups.  The default action is to stop when an error occurs.  rc0\n",
      "        is especially useful when stata_cmd is an estimation command and some\n",
      "        by-groups have insufficient observations.\n",
      "\n",
      "\n",
      "Examples\n",
      "--------\n",
      "\n",
      "    ---------------------------------------------------------------------------\n",
      "    Setup\n",
      "        . sysuse auto\n",
      "\n",
      "    For each category of foreign, display summary statistics for rep78\n",
      "        . by foreign: summarize rep78\n",
      "\n",
      "    Same as above command, but check that the data are sorted by foreign and\n",
      "    make within foreign\n",
      "        . by foreign (make): summarize rep78\n",
      "        not sorted\n",
      "        r(5);\n",
      "        . sort foreign make\n",
      "        . by foreign (make): summarize rep78\n",
      "\n",
      "    For each category of rep78, display frequency counts of foreign\n",
      "        . by rep78: tabulate foreign\n",
      "        not sorted\n",
      "        r(5);\n",
      "        . sort rep78\n",
      "        . by rep78: tabulate foreign\n",
      "\n",
      "    Equivalent to above two commands\n",
      "        . by rep78, sort: tabulate foreign\n",
      "\n",
      "    Equivalent to above command\n",
      "        . bysort rep78: tabulate foreign\n",
      "\n",
      "    For each category of rep78 within categories of foreign, display summary\n",
      "    statistics for price\n",
      "        . by foreign rep78, sort: summarize price\n",
      "\n",
      "    ---------------------------------------------------------------------------\n",
      "    Setup\n",
      "        . sysuse autornd\n",
      "        . keep in 1/20\n",
      "\n",
      "    Store in new variable mean_w the mean value of weight for each category\n",
      "    of mpg\n",
      "        . by mpg, sort: egen mean_w = mean(weight)\n",
      "    ---------------------------------------------------------------------------\n",
      "\n",
      "\n",
      "Technical note\n",
      "--------------\n",
      "\n",
      "    by repeats the stata_cmd for each group defined by varlist.  If stata_cmd\n",
      "    stores results, only the results from the last group on which stata_cmd\n",
      "    executes will be stored.\n"
     ]
    }
   ],
   "source": [
    "help bysort\n",
    "\n"
   ]
  },
  {
   "cell_type": "code",
   "execution_count": 88,
   "metadata": {
    "tags": []
   },
   "outputs": [
    {
     "name": "stdout",
     "output_type": "stream",
     "text": [
      "\n",
      "-------------------------------------------------------------------------------\n",
      "-> iclevel = At least 2 but less than 4 years\n",
      "\n",
      "      chain |      Freq.     Percent        Cum.\n",
      "------------+-----------------------------------\n",
      "          0 |        455       42.92       42.92\n",
      "          1 |        605       57.08      100.00\n",
      "------------+-----------------------------------\n",
      "      Total |      1,060      100.00\n",
      "\n",
      "-------------------------------------------------------------------------------\n",
      "-> iclevel = Four or more years\n",
      "\n",
      "      chain |      Freq.     Percent        Cum.\n",
      "------------+-----------------------------------\n",
      "          0 |        147       18.61       18.61\n",
      "          1 |        643       81.39      100.00\n",
      "------------+-----------------------------------\n",
      "      Total |        790      100.00\n",
      "\n",
      "-------------------------------------------------------------------------------\n",
      "-> iclevel = Less than 2 years (below associate)\n",
      "\n",
      "      chain |      Freq.     Percent        Cum.\n",
      "------------+-----------------------------------\n",
      "          0 |      1,152       64.32       64.32\n",
      "          1 |        639       35.68      100.00\n",
      "------------+-----------------------------------\n",
      "      Total |      1,791      100.00\n",
      "\n"
     ]
    }
   ],
   "source": [
    "bysort iclevel: tab chain"
   ]
  },
  {
   "cell_type": "code",
   "execution_count": 89,
   "metadata": {
    "collapsed": true,
    "jupyter": {
     "outputs_hidden": true
    },
    "tags": []
   },
   "outputs": [
    {
     "name": "stdout",
     "output_type": "stream",
     "text": [
      "\n",
      "[D] destring -- Convert string variables to numeric variables and vice versa\n",
      "                (View complete PDF manual entry)\n",
      "\n",
      "\n",
      "Syntax\n",
      "------\n",
      "\n",
      "    Convert string variables to numeric variables\n",
      "\n",
      "        destring [varlist] , {generate(newvarlist)|replace} [\n",
      "                             destring_options]\n",
      "\n",
      "\n",
      "    Convert numeric variables to string variables\n",
      "\n",
      "        tostring varlist , {generate(newvarlist)|replace} [tostring_options]\n",
      "\n",
      "\n",
      "    destring_options                  Description\n",
      "    -------------------------------------------------------------------------\n",
      "    * generate(newvarlist)            generate newvar_1, ..., newvar_k for\n",
      "                                        each variable in varlist\n",
      "    * replace                         replace string variables in varlist\n",
      "                                        with numeric variables\n",
      "      ignore(\"chars\" [, ignoreopts])  remove specified nonnumeric characters,\n",
      "                                        as characters or as bytes, and\n",
      "                                        illegal Unicode characters\n",
      "      force                           convert nonnumeric strings to missing\n",
      "                                        values\n",
      "      float                           generate numeric variables as type\n",
      "                                        float\n",
      "      percent                         convert percent variables to fractional\n",
      "                                        form\n",
      "      dpcomma                         convert variables with commas as\n",
      "                                        decimals to period-decimal format\n",
      "    -------------------------------------------------------------------------\n",
      "    * Either generate(newvarlist) or replace is required.\n",
      "\n",
      "    tostring_options                  Description\n",
      "    -------------------------------------------------------------------------\n",
      "    * generate(newvarlist)            generate newvar_1, ..., newvar_k for\n",
      "                                        each variable in varlist\n",
      "    * replace                         replace numeric variables in varlist\n",
      "                                        with string variables\n",
      "      force                           force conversion ignoring information\n",
      "                                        loss\n",
      "      format(format)                  convert using specified format\n",
      "      usedisplayformat                convert using display format\n",
      "    -------------------------------------------------------------------------\n",
      "    * Either generate(newvarlist) or replace is required.\n",
      "\n",
      "\n",
      "Menu\n",
      "----\n",
      "\n",
      "    destring\n",
      "    --------\n",
      "\n",
      "        Data > Create or change data > Other variable-transformation commands\n",
      "            > Convert variables from string to numeric\n",
      "\n",
      "    tostring\n",
      "    --------\n",
      "\n",
      "        Data > Create or change data > Other variable-transformation commands\n",
      "            > Convert variables from numeric to string\n",
      "\n",
      "\n",
      "Description\n",
      "-----------\n",
      "\n",
      "    destring converts variables in varlist from string to numeric.  If\n",
      "    varlist is not specified, destring will attempt to convert all variables\n",
      "    in the dataset from string to numeric.  Characters listed in ignore() are\n",
      "    removed.  Variables in varlist that are already numeric will not be\n",
      "    changed.  destring treats both empty strings \"\" and \".\" as indicating\n",
      "    sysmiss (.) and interprets the strings \".a\", \".b\", ..., \".z\" as the\n",
      "    extended missing values .a, .b, ..., .z; see [U] 12.2.1 Missing values.\n",
      "    destring also ignores any leading or trailing spaces so that, for\n",
      "    example, \" \" is equivalent to \"\" and \" . \" is equivalent to \".\".\n",
      "\n",
      "    tostring converts variables in varlist from numeric to string.  The most\n",
      "    compact string format possible is used.  Variables in varlist that are\n",
      "    already string will not be converted.\n",
      "\n",
      "\n",
      "Links to PDF documentation\n",
      "--------------------------\n",
      "\n",
      "        Quick start\n",
      "\n",
      "        Remarks and examples\n",
      "\n",
      "    The above sections are not included in this help file.\n",
      "\n",
      "\n",
      "Options for destring\n",
      "--------------------\n",
      "\n",
      "    Either generate() or replace must be specified.  With either option, if\n",
      "    any string variable contains nonnumeric characters not specified with\n",
      "    ignore(), then no corresponding variable will be generated, nor will that\n",
      "    variable be replaced (unless force is specified).\n",
      "\n",
      "    generate(newvarlist) specifies that a new variable be created for each\n",
      "        variable in varlist.  newvarlist must contain the same number of new\n",
      "        variable names as there are variables in varlist.  If varlist is not\n",
      "        specified, destring attempts to generate a numeric variable for each\n",
      "        variable in the dataset; newvarlist must then contain the same number\n",
      "        of new variable names as there are variables in the dataset.  Any\n",
      "        variable labels or characteristics will be copied to the new\n",
      "        variables created.\n",
      "\n",
      "    replace specifies that the variables in varlist be converted to numeric\n",
      "        variables.  If varlist is not specified, destring attempts to convert\n",
      "        all variables from string to numeric.  Any variable labels or\n",
      "        characteristics will be retained.\n",
      "\n",
      "    ignore(\"chars\" [, ignoreopts]) specifies nonnumeric characters be\n",
      "        removed.  ignoreopts may be aschars, asbytes, or illegal.  The\n",
      "        default behavior is to remove characters as characters, which is the\n",
      "        same as specifying aschars.  asbytes specifies removal of all bytes\n",
      "        included in all characters in the ignore string, regardless of\n",
      "        whether these bytes form complete Unicode characters.  illegal\n",
      "        specifies removal of all illegal Unicode characters, which is useful\n",
      "        for removing high-ASCII characters.  illegal may not be specified\n",
      "        with asbytes.  If any string variable still contains any nonnumeric\n",
      "        or illegal Unicode characters after the ignore string has been\n",
      "        removed, no action will take place for that variable unless force is\n",
      "        also specified.  Note that to Stata the comma is a nonnumeric\n",
      "        character; see also the dpcomma option below.\n",
      "\n",
      "    force specifies that any string values containing nonnumeric characters,\n",
      "        in addition to any specified with ignore(), be treated as indicating\n",
      "        missing numeric values.\n",
      "\n",
      "    float specifies that any new numeric variables be created initially as\n",
      "        type float.  The default is type double; see [D] Data types.\n",
      "        destring attempts automatically to compress each new numeric variable\n",
      "        after creation.\n",
      "\n",
      "    percent removes any percent signs found in the values of a variable, and\n",
      "        all values of that variable are divided by 100 to convert the values\n",
      "        to fractional form.  percent by itself implies that the percent sign,\n",
      "        \"%\", is an argument to ignore(), but the converse is not true.\n",
      "\n",
      "    dpcomma specifies that variables with commas as decimal values should be\n",
      "        converted to have periods as decimal values.\n",
      "\n",
      "\n",
      "Options for tostring\n",
      "--------------------\n",
      "\n",
      "    Either generate() or replace must be specified.  If converting any\n",
      "    numeric variable to string would result in loss of information, no\n",
      "    variable will be produced unless force is specified.  For more details,\n",
      "    see force below.\n",
      "\n",
      "    generate(newvarlist) specifies that a new variable be created for each\n",
      "        variable in varlist.  newvarlist must contain the same number of new\n",
      "        variable names as there are variables in varlist.  Any variable\n",
      "        labels or characteristics will be copied to the new variables\n",
      "        created.\n",
      "\n",
      "    replace specifies that the variables in varlist be converted to string\n",
      "        variables.  Any variable labels or characteristics will be retained.\n",
      "\n",
      "    force specifies that conversions be forced even if they entail loss of\n",
      "        information.  Loss of information means one of two circumstances: 1)\n",
      "        The result of real(strofreal(varname, \"format\")) is not equal to\n",
      "        varname; that is, the conversion is not reversible without loss of\n",
      "        information; 2) replace was specified, but a variable has associated\n",
      "        value labels.  In circumstance 1, it is usually best to specify\n",
      "        usedisplayformat or format().  In circumstance 2, value labels will\n",
      "        be ignored in a forced conversion.  decode (see [D] encode) is the\n",
      "        standard way to generate a string variable based on value labels.\n",
      "\n",
      "    format(format) specifies that a numeric format be used as an argument to\n",
      "        the strofreal() function, which controls the conversion of the\n",
      "        numeric variable to string.  For example, a format of %7.2f specifies\n",
      "        that numbers are to be rounded to two decimal places before\n",
      "        conversion to string.  See [FN] String functions and [D] format.\n",
      "        format() cannot be specified with usedisplayformat.\n",
      "\n",
      "    usedisplayformat specifies that the current display format be used for\n",
      "        each variable.  For example, this option could be useful when using\n",
      "        U.S. Social Security numbers or daily or other dates with some %d or\n",
      "        %t format assigned.  usedisplayformat cannot be specified with\n",
      "        format().\n",
      "\n",
      "\n",
      "Examples\n",
      "--------\n",
      "\n",
      "    ---------------------------------------------------------------------------\n",
      "    Setup\n",
      "        . webuse destring1\n",
      "        . describe\n",
      "        . list\n",
      "\n",
      "    Generate numeric variables from the string variables\n",
      "        . destring, generate(id2 num2 code2 total2 income2)\n",
      "\n",
      "    Describe the result\n",
      "        . describe\n",
      "\n",
      "    List the result\n",
      "        . list\n",
      "\n",
      "    ---------------------------------------------------------------------------\n",
      "    Setup\n",
      "        . webuse destring1, clear\n",
      "        . describe\n",
      "        . list\n",
      "\n",
      "    Convert string variables to numeric variables, replacing the original\n",
      "    string variables\n",
      "        . destring, replace\n",
      "\n",
      "    Describe the result\n",
      "        . describe\n",
      "\n",
      "    List the result\n",
      "        . list\n",
      "\n",
      "    ---------------------------------------------------------------------------\n",
      "    Setup\n",
      "        . webuse destring2, clear\n",
      "        . describe date\n",
      "        . list date\n",
      "\n",
      "    Remove the spaces in date and convert it to a numeric variable, replacing\n",
      "    the original string variable\n",
      "        . destring date, ignore(\" \") replace\n",
      "\n",
      "    Describe the result\n",
      "        . describe\n",
      "\n",
      "    List the result\n",
      "        . list\n",
      "\n",
      "    ---------------------------------------------------------------------------\n",
      "    Setup\n",
      "        . webuse tostring, clear\n",
      "        . describe\n",
      "        . list\n",
      "\n",
      "    Convert the numeric variables year and day to string variables, replacing\n",
      "    the original string variables\n",
      "        . tostring year day, replace\n",
      "\n",
      "    Describe the result\n",
      "        . describe\n",
      "\n",
      "    List the result\n",
      "        . list\n",
      "    ---------------------------------------------------------------------------\n",
      "\n",
      "\n",
      "Video example\n",
      "-------------\n",
      "\n",
      "        How to convert a string variable to a numeric variable\n"
     ]
    }
   ],
   "source": [
    "help destring"
   ]
  },
  {
   "cell_type": "code",
   "execution_count": 90,
   "metadata": {
    "tags": []
   },
   "outputs": [
    {
     "data": {
      "image/png": "[encoded data removed]",
      "text/plain": [
       "<IPython.core.display.Image object>"
      ]
     },
     "metadata": {},
     "output_type": "display_data"
    }
   ],
   "source": [
    "graph hbar chain, over(owner_pe) by(iclevel)"
   ]
  },
  {
   "cell_type": "code",
   "execution_count": null,
   "metadata": {},
   "outputs": [],
   "source": []
  }
 ],
 "metadata": {
  "kernelspec": {
   "display_name": "Stata (nbstata)",
   "language": "stata",
   "name": "nbstata"
  },
  "language_info": {
   "file_extension": ".do",
   "mimetype": "text/x-stata",
   "name": "stata",
   "version": "17"
  }
 },
 "nbformat": 4,
 "nbformat_minor": 4
}
