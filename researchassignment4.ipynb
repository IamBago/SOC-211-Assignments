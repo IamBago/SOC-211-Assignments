{
 "cells": [
  {
   "cell_type": "markdown",
   "metadata": {},
   "source": [
    "# Research assignment 4\n",
    "\n",
    "\n",
    "Hunter Prout\n",
    "\n",
    "Research assignment 4\n",
    "\n",
    "3/9/24"
   ]
  },
  {
   "cell_type": "code",
   "execution_count": 1,
   "metadata": {
    "tags": []
   },
   "outputs": [
    {
     "data": {
      "text/html": [
       "<style>div.jp-Notebook .datagrid-container {min-height: 448px; }</style>"
      ],
      "text/plain": [
       "<IPython.core.display.HTML object>"
      ]
     },
     "metadata": {},
     "output_type": "display_data"
    },
    {
     "name": "stdout",
     "output_type": "stream",
     "text": [
      "\n"
     ]
    }
   ],
   "source": [
    "set maxvar 120000\n",
    "use race educ age wrkstat respect sex prestg10 year id using GSS2022.dta\n",
    "eststo clear "
   ]
  },
  {
   "cell_type": "code",
   "execution_count": 41,
   "metadata": {
    "tags": []
   },
   "outputs": [
    {
     "name": "stdout",
     "output_type": "stream",
     "text": [
      "\n",
      "    r treated with respect at |\n",
      "                         work |      Freq.     Percent        Cum.\n",
      "------------------------------+-----------------------------------\n",
      "               strongly agree |        766      100.00      100.00\n",
      "------------------------------+-----------------------------------\n",
      "                        Total |        766      100.00\n"
     ]
    }
   ],
   "source": [
    "tab respect if respect == 1"
   ]
  },
  {
   "cell_type": "code",
   "execution_count": 2,
   "metadata": {
    "tags": []
   },
   "outputs": [
    {
     "name": "stdout",
     "output_type": "stream",
     "text": [
      "\n",
      "       highest year of school |\n",
      "                    completed |      Freq.     Percent        Cum.\n",
      "------------------------------+-----------------------------------\n",
      "          no formal schooling |          3        0.09        0.09\n",
      "                            1 |          1        0.03        0.11\n",
      "                            2 |          4        0.11        0.23\n",
      "                            3 |          8        0.23        0.45\n",
      "                            4 |          6        0.17        0.62\n",
      "                            5 |          6        0.17        0.79\n",
      "                            6 |         23        0.65        1.45\n",
      "                            7 |         12        0.34        1.79\n",
      "                            8 |         37        1.05        2.84\n",
      "                            9 |         57        1.62        4.46\n",
      "                           10 |         78        2.21        6.67\n",
      "                           11 |        116        3.29        9.96\n",
      "                           12 |        909       25.79       35.75\n",
      "                           13 |        268        7.60       43.36\n",
      "                           14 |        506       14.36       57.72\n",
      "                           15 |        189        5.36       63.08\n",
      "                           16 |        697       19.78       82.86\n",
      "                           17 |        167        4.74       87.60\n",
      "                           18 |        210        5.96       93.56\n",
      "                           19 |         79        2.24       95.80\n",
      "                           20 |        148        4.20      100.00\n",
      "------------------------------+-----------------------------------\n",
      "                        Total |      3,524      100.00\n"
     ]
    }
   ],
   "source": [
    "tab educ"
   ]
  },
  {
   "cell_type": "code",
   "execution_count": 3,
   "metadata": {
    "tags": []
   },
   "outputs": [
    {
     "name": "stdout",
     "output_type": "stream",
     "text": [
      "\n",
      "           race of respondent |      Freq.     Percent        Cum.\n",
      "------------------------------+-----------------------------------\n",
      "                        white |      2,514       72.01       72.01\n",
      "                        black |        565       16.18       88.20\n",
      "                        other |        412       11.80      100.00\n",
      "------------------------------+-----------------------------------\n",
      "                        Total |      3,491      100.00\n"
     ]
    }
   ],
   "source": [
    "tab race"
   ]
  },
  {
   "cell_type": "code",
   "execution_count": 4,
   "metadata": {
    "tags": []
   },
   "outputs": [
    {
     "name": "stdout",
     "output_type": "stream",
     "text": [
      "(53 missing values generated)\n",
      "(2,514 real changes made)\n",
      "(412 real changes made)\n",
      "(565 real changes made)\n",
      "\n",
      "      black |      Freq.     Percent        Cum.\n",
      "------------+-----------------------------------\n",
      "          0 |      2,926       83.82       83.82\n",
      "          1 |        565       16.18      100.00\n",
      "------------+-----------------------------------\n",
      "      Total |      3,491      100.00\n"
     ]
    }
   ],
   "source": [
    "gen black = race \n",
    "replace black = 0 if race == 1\n",
    "replace black = 0 if race == 3 \n",
    "replace black = 1 if race == 2\n",
    "tab black"
   ]
  },
  {
   "cell_type": "code",
   "execution_count": 5,
   "metadata": {},
   "outputs": [
    {
     "name": "stdout",
     "output_type": "stream",
     "text": [
      "(53 missing values generated)\n",
      "(0 real changes made)\n",
      "(412 real changes made)\n",
      "(565 real changes made)\n",
      "\n",
      "      white |      Freq.     Percent        Cum.\n",
      "------------+-----------------------------------\n",
      "          0 |        977       27.99       27.99\n",
      "          1 |      2,514       72.01      100.00\n",
      "------------+-----------------------------------\n",
      "      Total |      3,491      100.00\n"
     ]
    }
   ],
   "source": [
    "gen white = race \n",
    "replace white = 1 if race == 1\n",
    "replace white = 0 if race == 3 \n",
    "replace white = 0 if race == 2\n",
    "tab white"
   ]
  },
  {
   "cell_type": "code",
   "execution_count": 6,
   "metadata": {},
   "outputs": [
    {
     "name": "stdout",
     "output_type": "stream",
     "text": [
      "(53 missing values generated)\n",
      "(412 real changes made)\n",
      "(2,514 real changes made)\n",
      "(565 real changes made)\n",
      "\n",
      "   otherrac |      Freq.     Percent        Cum.\n",
      "------------+-----------------------------------\n",
      "          0 |      3,079       88.20       88.20\n",
      "          1 |        412       11.80      100.00\n",
      "------------+-----------------------------------\n",
      "      Total |      3,491      100.00\n"
     ]
    }
   ],
   "source": [
    "gen otherrac = race \n",
    "replace otherrac = 1 if race == 3 \n",
    "replace otherrac = 0 if race == 1\n",
    "replace otherrac = 0 if race == 2\n",
    "tab otherrac"
   ]
  },
  {
   "cell_type": "code",
   "execution_count": 7,
   "metadata": {
    "tags": []
   },
   "outputs": [
    {
     "name": "stdout",
     "output_type": "stream",
     "text": [
      "\n",
      "              respondents sex |      Freq.     Percent        Cum.\n",
      "------------------------------+-----------------------------------\n",
      "                         male |      1,627       46.17       46.17\n",
      "                       female |      1,897       53.83      100.00\n",
      "------------------------------+-----------------------------------\n",
      "                        Total |      3,524      100.00\n"
     ]
    }
   ],
   "source": [
    "tab sex"
   ]
  },
  {
   "cell_type": "code",
   "execution_count": 8,
   "metadata": {
    "tags": []
   },
   "outputs": [
    {
     "name": "stdout",
     "output_type": "stream",
     "text": [
      "year      wrkstat   age       sex       respect   white\n",
      "id        prestg10  educ      race      black     otherrac\n"
     ]
    }
   ],
   "source": [
    "ds"
   ]
  },
  {
   "cell_type": "markdown",
   "metadata": {},
   "source": [
    "## 1. Develop hypotheses about interactions between your independent variables [1 pt]\n",
    "\n",
    "You can use the GSS data, Student aid data, or your own data"
   ]
  },
  {
   "cell_type": "markdown",
   "metadata": {},
   "source": [
    "    A. Write at least one hypothesis involving one of the two following types of interactions\n",
    "        1) nominal * nominal\n",
    "        2) nominal * interval-ratio\n",
    "        \n",
    "    B. State the predicted direction of association between your dependent variable and:\n",
    "        1) each of the 2 independent variables by themselves\n",
    "        2) the interaction of the 2 indendent variables\n",
    "        3) you can predict that there is no association\n",
    "        \n",
    "    C. Write a couple sentences about the theoretical reasons (prior knowledge / research) for each of your predictions\n",
    "    \n",
    "H.1   I hypothesize that the \"respect\" variable – which indicates how strongly a respondent agrees that they are treated with respect at work – will be lesser if a respondent is not white \n",
    " \n",
    "H.2 I hypothesize that the \"respect\" variable – which indicates how strongly a respondent agrees that they are treated with respect at work – will be lesser if a respondent is not white and if the respondent has less than a college education than if a respondant is white and has 16 years or more of education. \n",
    "\n",
    "\n",
    "These hypotheses are testing the impact of race(nomIV) and education (intvIV) on feeling respected at work(catDV). This test lies on the theory that people who are of higher social status tend to be treated with more respect at work. https://doi.org/10.2307/2786295 https://www.jstor.org/stable/2786295\n",
    "\n",
    "Education is a growing indicator of social status, as your years of education grow, your social status grows. Also, people with higher years of education are expected to work in more prestigious jobs that probably are more respected by society (doctor, lawyer...); people with less education work in jobs that are less respectable to society(janitor, fast food). This relationship should support our hypothesis and may effect out outcomes. The people with more completed years of education can be expected to feel more respected in their work. \n",
    "\n",
    "Historically, white people have placed themselves at a higher level of social ranking or status than Black or other races – through slavery, colonization, genocide, domination etc. – this means that white people should feel the most respected at work according to our theory. This history also causes white people to work in respected jobs more frequently than Black or other people will work in these positions. The racial inequality in job type may affect my analysis, I will include occupational prestige to see if it interacts or causes some sort of change in the relatinship. There is a socioeconmic theory of \"the racial wage\" which may play a role in the interaction that I am investigating. The racial wage is a theory from W.E.B DuBois which shows that non-white workers experince income gaps even when other factors like qualifications are held equal. The racial wage may cause non-white workers to feel less respected at work because they are paid less in the same exact job as their white coworkers."
   ]
  },
  {
   "cell_type": "markdown",
   "metadata": {},
   "source": [
    "## 2. Test your hypotheses [3 pts]\n",
    "\n",
    "    A. For each hypothesized interactive relationship: use regression with the appropriate interaction syntax to estimate 1 model with uninteracted variables and 1 model with interacted variables. Use --esttab to output a model with the 2 tables\n",
    "    \n",
    "    B. Use margins and marginsplot with the appropriate syntax to visually represent your regression adjusted estimates for given nominal categories or at given interval-ratio values"
   ]
  },
  {
   "cell_type": "code",
   "execution_count": 9,
   "metadata": {
    "tags": []
   },
   "outputs": [
    {
     "name": "stdout",
     "output_type": "stream",
     "text": [
      "note: otherrac omitted because of collinearity.\n",
      "\n",
      "      Source |       SS           df       MS      Number of obs   =     1,881\n",
      "-------------+----------------------------------   F(5, 1875)      =      7.10\n",
      "       Model |  16.4262091         5  3.28524182   Prob > F        =    0.0000\n",
      "    Residual |  867.600373     1,875  .462720199   R-squared       =    0.0186\n",
      "-------------+----------------------------------   Adj R-squared   =    0.0160\n",
      "       Total |  884.026582     1,880  .470226905   Root MSE        =    .68024\n",
      "\n",
      "------------------------------------------------------------------------------\n",
      "     respect | Coefficient  Std. err.      t    P>|t|     [95% conf. interval]\n",
      "-------------+----------------------------------------------------------------\n",
      "        educ |  -.0109079   .0063451    -1.72   0.086    -.0233521    .0015363\n",
      "    prestg10 |  -.0049631   .0013056    -3.80   0.000    -.0075238   -.0024025\n",
      "         sex |   .0500903   .0315956     1.59   0.113     -.011876    .1120565\n",
      "       black |  -.1379987   .0597977    -2.31   0.021    -.2552756   -.0207217\n",
      "       white |  -.0592637   .0481528    -1.23   0.219    -.1537024     .035175\n",
      "    otherrac |          0  (omitted)\n",
      "       _cons |   2.095758   .0992037    21.13   0.000     1.901196    2.290319\n",
      "------------------------------------------------------------------------------\n",
      "(est1 stored)\n"
     ]
    }
   ],
   "source": [
    "eststo: reg respect educ prestg10 sex black white otherrac"
   ]
  },
  {
   "cell_type": "code",
   "execution_count": 10,
   "metadata": {
    "tags": []
   },
   "outputs": [
    {
     "name": "stdout",
     "output_type": "stream",
     "text": [
      "\n",
      "             |  respect     educ  wrkstat otherrac    black    white\n",
      "-------------+------------------------------------------------------\n",
      "     respect |   1.0000 \n",
      "        educ |  -0.0896   1.0000 \n",
      "     wrkstat |  -0.0022  -0.1663   1.0000 \n",
      "    otherrac |   0.0430  -0.0723  -0.0010   1.0000 \n",
      "       black |  -0.0234  -0.0589  -0.0051  -0.1607   1.0000 \n",
      "       white |  -0.0128   0.1002   0.0049  -0.5868  -0.7049   1.0000 \n"
     ]
    }
   ],
   "source": [
    "pwcorr respect educ wrkstat otherrac black white"
   ]
  },
  {
   "cell_type": "markdown",
   "metadata": {},
   "source": [
    "Based on my regression I can see that race has a negative coefficient for both white and black people. This Coefficient is larger for Black people than white people. This means that being black is related to a more significant mean decrease in feeling respected at work than being white is while holding other variables constant. This is indicated in the data as Black has a -.13 coefficient and white has a coefficient of  -.05. The R squared coefficient is low for the overall relationship meaning that there are probably more varibales that are explaining respect at work that I am not using. "
   ]
  },
  {
   "cell_type": "code",
   "execution_count": null,
   "metadata": {},
   "outputs": [],
   "source": []
  },
  {
   "cell_type": "code",
   "execution_count": 11,
   "metadata": {
    "tags": []
   },
   "outputs": [
    {
     "name": "stdout",
     "output_type": "stream",
     "text": [
      "note: educ omitted because of collinearity.\n",
      "\n",
      "      Source |       SS           df       MS      Number of obs   =     1,883\n",
      "-------------+----------------------------------   F(11, 1871)     =      3.17\n",
      "       Model |   16.180356        11  1.47094146   Prob > F        =    0.0003\n",
      "    Residual |  868.886027     1,871  .464396594   R-squared       =    0.0183\n",
      "-------------+----------------------------------   Adj R-squared   =    0.0125\n",
      "       Total |  885.066383     1,882  .470279694   Root MSE        =    .68147\n",
      "\n",
      "------------------------------------------------------------------------------\n",
      "     respect | Coefficient  Std. err.      t    P>|t|     [95% conf. interval]\n",
      "-------------+----------------------------------------------------------------\n",
      "        race |\n",
      "      black  |   .2224002   .8891237     0.25   0.803    -1.521378    1.966179\n",
      "      other  |  -.0077894   .7099363    -0.01   0.991     -1.40014    1.384561\n",
      "             |\n",
      "        educ |   .0007891   .0247675     0.03   0.975    -.0477858    .0493639\n",
      "             |\n",
      " race#c.educ |\n",
      "      black  |  -.0181019   .0611448    -0.30   0.767    -.1380211    .1018172\n",
      "      other  |   .0165194   .0507633     0.33   0.745    -.0830393     .116078\n",
      "             |\n",
      "    prestg10 |   .0001527   .0079828     0.02   0.985    -.0155034    .0158088\n",
      "             |\n",
      "        race#|\n",
      "  c.prestg10 |\n",
      "      black  |  -.0050391   .0201465    -0.25   0.803     -.044551    .0344728\n",
      "      other  |  -.0041704   .0153185    -0.27   0.785    -.0342134    .0258727\n",
      "             |\n",
      "        educ |          0  (omitted)\n",
      "             |\n",
      "  c.prestg10#|\n",
      "      c.educ |  -.0002943   .0005163    -0.57   0.569     -.001307    .0007183\n",
      "             |\n",
      "        race#|\n",
      "  c.prestg10#|\n",
      "      c.educ |\n",
      "      black  |   .0002855   .0013207     0.22   0.829    -.0023047    .0028756\n",
      "      other  |   .0000299    .001029     0.03   0.977    -.0019882     .002048\n",
      "             |\n",
      "       _cons |   1.907314   .3629192     5.26   0.000     1.195545    2.619083\n",
      "------------------------------------------------------------------------------\n",
      "(est2 stored)\n"
     ]
    }
   ],
   "source": [
    "eststo: reg respect i.race##c.educ c.prestg10##i.race##c.educ"
   ]
  },
  {
   "cell_type": "markdown",
   "metadata": {},
   "source": [
    "When I include interaction terms, you can see that being black is signficiant to the feeling respected at work indicated by a coefficent of .22. Years of education completed (educ) and occupational prestige (prestg10) both have a very small coefficent to the dependent variable. Upon interacting occupational prestiege, race, and education there is not as much statistical significance to feeling respected at work compared to the black varaible alone. the P values are between 0 and 1; this means that there is signficance in this relationship. "
   ]
  },
  {
   "cell_type": "code",
   "execution_count": 12,
   "metadata": {
    "tags": []
   },
   "outputs": [
    {
     "name": "stdout",
     "output_type": "stream",
     "text": [
      "\n",
      "--------------------------------------------\n",
      "                      (1)             (2)   \n",
      "                  Model 1         Model 2   \n",
      "                     b/se            b/se   \n",
      "--------------------------------------------\n",
      "Years of e~n       -0.011*          0.001   \n",
      "                  (0.006)         (0.025)   \n",
      "prestg10           -0.005***        0.000   \n",
      "                  (0.001)         (0.008)   \n",
      "sex                 0.050                   \n",
      "                  (0.032)                   \n",
      "black              -0.138**                 \n",
      "                  (0.060)                   \n",
      "white              -0.059                   \n",
      "                  (0.048)                   \n",
      "otherrac            0.000                   \n",
      "                      (.)                   \n",
      "Black                               0.222   \n",
      "                                  (0.889)   \n",
      "Other                              -0.008   \n",
      "                                  (0.710)   \n",
      "Black * ed~n                       -0.018   \n",
      "                                  (0.061)   \n",
      "Other * ed~n                        0.017   \n",
      "                                  (0.051)   \n",
      "Years of e~n                        0.000   \n",
      "                                      (.)   \n",
      "2.race#c.~10                       -0.005   \n",
      "                                  (0.020)   \n",
      "3.race#c.~10                       -0.004   \n",
      "                                  (0.015)   \n",
      "c.prestg10~c                       -0.000   \n",
      "                                  (0.001)   \n",
      "2.race#c.p~c                        0.000   \n",
      "                                  (0.001)   \n",
      "3.race#c.p~c                        0.000   \n",
      "                                  (0.001)   \n",
      "--------------------------------------------\n",
      "Rsquared            0.019           0.018   \n",
      "N                1881.000        1883.000   \n",
      "--------------------------------------------\n"
     ]
    }
   ],
   "source": [
    "esttab, stats(r2 N, labels(\"Rsquared\" \"N\")) cells(b(star fmt(3)) se(fmt(3) par)) ///\n",
    "nobase mlabels(\"Model 1\" \"Model 2\") starlevels(* .1 ** .05 *** .01)  ///\n",
    "coeflabels (2.race \"Black\" 3.race \"Other\" educ \"Years of education\" ///\n",
    "2.race#c.educ \"Black * education\" 3.race#c.educ \"Other * education\") noconstant"
   ]
  },
  {
   "cell_type": "markdown",
   "metadata": {},
   "source": [
    "This estab shows that Black, occupational preseiege, and years of education completed are all significant as individual variables. However, the interactions are not rated with the same significance."
   ]
  },
  {
   "cell_type": "code",
   "execution_count": null,
   "metadata": {},
   "outputs": [],
   "source": [
    "%set graph_width = 11"
   ]
  },
  {
   "cell_type": "code",
   "execution_count": null,
   "metadata": {},
   "outputs": [],
   "source": [
    "%set graph_height = 8"
   ]
  },
  {
   "cell_type": "code",
   "execution_count": 25,
   "metadata": {
    "tags": []
   },
   "outputs": [
    {
     "name": "stdout",
     "output_type": "stream",
     "text": [
      "\n",
      "Variables that uniquely identify margins: race educ\n"
     ]
    },
    {
     "data": {
      "image/png": "[encoded data removed]",
      "text/plain": [
       "<IPython.core.display.Image object>"
      ]
     },
     "metadata": {},
     "output_type": "display_data"
    }
   ],
   "source": [
    "quietly reg respect c.educ##i.race c.prestg10##i.race##c.educ\n",
    "quietly margins i.race, over(educ) atmeans\n",
    "marginsplot, recast(scatter) scheme(538w)"
   ]
  },
  {
   "cell_type": "code",
   "execution_count": 27,
   "metadata": {
    "tags": []
   },
   "outputs": [
    {
     "name": "stdout",
     "output_type": "stream",
     "text": [
      "\n",
      "    Variable |        Obs        Mean    Std. dev.       Min        Max\n",
      "-------------+---------------------------------------------------------\n",
      "        educ |      3,524    14.10812    2.893797          0         20\n"
     ]
    }
   ],
   "source": [
    "sum educ"
   ]
  },
  {
   "cell_type": "code",
   "execution_count": 34,
   "metadata": {
    "tags": []
   },
   "outputs": [
    {
     "name": "stdout",
     "output_type": "stream",
     "text": [
      "\n",
      "Variables that uniquely identify margins: educ race\n"
     ]
    },
    {
     "data": {
      "image/png": "[encoded data removed]",
      "text/plain": [
       "<IPython.core.display.Image object>"
      ]
     },
     "metadata": {},
     "output_type": "display_data"
    }
   ],
   "source": [
    "quietly reg respect c.educ##i.race c.prestg10##i.race##c.educ\n",
    "\n",
    "quietly margins race, at(educ=(0(1)20)) atmeans \n",
    "marginsplot, noci legend(on) xtitle(\"Years of Education\") ///\n",
    "ytitle(\"Respondent feels respsected at work\") legend(rows(1) position(1) ring(0)) scheme (538w)"
   ]
  },
  {
   "cell_type": "code",
   "execution_count": 33,
   "metadata": {
    "tags": []
   },
   "outputs": [
    {
     "name": "stdout",
     "output_type": "stream",
     "text": [
      "\n",
      "Variables that uniquely identify margins: prestg10 race\n"
     ]
    },
    {
     "data": {
      "image/png": "[encoded data removed]",
      "text/plain": [
       "<IPython.core.display.Image object>"
      ]
     },
     "metadata": {},
     "output_type": "display_data"
    }
   ],
   "source": [
    "quietly reg respect c.educ##i.race c.prestg10##i.race##c.educ\n",
    "\n",
    "quietly margins race, at(prestg10=(16(10)80)) atmeans \n",
    "marginsplot, noci legend(on) xtitle(\"Occupational prestiege\") ///\n",
    "ytitle(\"Respondent feels respsected at work\") legend(rows(1) position(1) ring(0)) scheme (538w)"
   ]
  },
  {
   "cell_type": "code",
   "execution_count": 31,
   "metadata": {
    "tags": []
   },
   "outputs": [
    {
     "name": "stdout",
     "output_type": "stream",
     "text": [
      "\n",
      "    Variable |        Obs        Mean    Std. dev.       Min        Max\n",
      "-------------+---------------------------------------------------------\n",
      "    prestg10 |      3,326    44.92483    13.57154         16         80\n"
     ]
    }
   ],
   "source": [
    "sum prestg10"
   ]
  },
  {
   "cell_type": "markdown",
   "metadata": {},
   "source": [
    "## 3. Interpret your results [1 pt]\n",
    "\n",
    "Write a couple sentences answering each of the following questions:"
   ]
  },
  {
   "cell_type": "markdown",
   "metadata": {},
   "source": [
    "    A. Do the results support or contradict each of your hypotheses?\n",
    "My H1 is accepted: a respondents \"respect\" variable will be lower if the respondent is not white. This is denied because the \"other\" racial group has a higher perception of respect at work with a negative correlation for years of education where as their education grows, thier feeling of respect lowers. White and Black racial groups both gain respect at work as their education grows with White people at the lowest starting perception level of respect of the 3 groups.  \n",
    "\n",
    "H.2 : H2 is also rejected just barely! THe \"other\" racial groups is really causing some unexpected outcomes in my analysis, even at 12 years of completed education, the other group has a continually lower sense of feeling respected in theor work. This contradicts the theory that socioeconomic status is important to being respected in your work position. Also surprisng, Black people with less than 16 years of education feel more respected at work than white poeple or other races with the same education. This contradicts my theory and hypothesis. \n",
    "\n",
    "    B. Why do the regression coefficients support or contradict your hypotheses?\n",
    "    \n",
    "THe regression coefficent of the individual variable for Black signifies that it supports my hypothesis. Being black explains about %22 of your feeling of respect in the workplace. I think that this is represented while the interaction coefficents are and the \"other\" racial group is not strong because Black people are the least regaurded as highstatus individuals based on race, Black people make up the lowest population in education, and Black people are among the poorest racial groups in the united states. These aspects align with the theory that my hypothesis is based on. This theory would suggest that Black people are the racial group that is most impacted by socioeconmic status difference and respect in the job place. \n",
    "\n",
    "\n",
    "    C. Why do your regression adjusted estimates from margins for nominal categories or given interval-ratio values support or contradict your hypotheses?\n",
    "    \n",
    "   The regression estimates from margins show that my hypotheses are rejected. After reviewing the regression coefficents with the graph, I realize that age may have been an important factor to include. I think that age has a significant impact on feeling of respect in work and would also correlat to people having more education. Ultiamtely, my graphs show the exact opposite of my hypotheses. As education increases, respect in the workplace is gained more significantly by Blacks than whites. Other race people actually lose respect in the workplace as their years education completed increases. \n",
    "   \n",
    "I never did add age into my assignment, but I added prestg10 - occupational prestiege out of curriousity about half way though. The feedback from running regression on occupational prestiege seem to be a little more realistic than the education variable as a measure of social status. Occupational prestige margin estimates show more realistically what I was expecting to find in this assignment. As occupational presteige grows, people's feeling of being respected at work grows across the board. White people benifit the least from increasing their occupational prestiege and other race people start at the lowest level of respect with a baseline prestige job. Black people start at the highest levels of feeling of respect for low prestiege jobs and benefit the most in feeling respected for increasing the presiege of their occupation. "
   ]
  }
 ],
 "metadata": {
  "kernelspec": {
   "display_name": "Stata (nbstata)",
   "language": "stata",
   "name": "nbstata"
  },
  "language_info": {
   "file_extension": ".do",
   "mimetype": "text/x-stata",
   "name": "stata",
   "version": "17"
  }
 },
 "nbformat": 4,
 "nbformat_minor": 4
}
