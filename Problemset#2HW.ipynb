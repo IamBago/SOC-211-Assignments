{
 "cells": [
  {
   "cell_type": "markdown",
   "metadata": {},
   "source": [
    "## Stats 211 Problem set 2\n",
    "\n",
    "Hunter Prout\n",
    "\n",
    "Assignment 3 - Dr. Eaton's loan data\n",
    "\n",
    "2/19/24 "
   ]
  },
  {
   "cell_type": "markdown",
   "metadata": {},
   "source": [
    "### 1. Explain any new or revised hypotheses for interval ratio data from your own project or from Charlie's grant and loan repayment data\n",
    "\n",
    "[Your answer here should explain:\n",
    "1. What are your dependent variables? Why do they interest you?\n",
    "2. What are your independent variables? What direction to you hypothesize will be the relationship between your dependent variable and your dependent variables?\n",
    "3. Why do you think your dependent variables are associated with your independent variables?\n",
    "4. What are your control variables? Do you think they will show any spurious, intervening, or interactive relationships? Why?]\n",
    "\n",
    "If you are working with the grant and loan repayment data, formulate hypotheses about:\n",
    "1. The relationship between state grant aid per student and the level of research at a university\n",
    "2. The relationship between loan repayment and college net price for low-income students. The later variable is name **netprice4lowincome**\n",
    "\n",
    "\n",
    "\n",
    "1&2. MY Dependent varibales are State grant aid per student and loan repayment. These would be important in the case of studying factors involving student debt. My independent variables are college net price for low income students and levels of research at a university. i hypothesize that there will be an interactive potive correlation bewteen my dependent and independent variables. \n",
    "\n",
    "3. As research levels at the univesity increase or as the net price of college increases, my dependent varibles will also icrease. It costs more money to attend high research colleges or high value colleges, causing more loan payments and state grant aid to be administered to cover the cost of expensive institutions.\n",
    "\n",
    "4. Because I am measuring data across states, there will need to be a control for the differences between states and college net costs in different states. I think that this control variable may cause spurriousness; it is difficult to control for variation of net cost of college across states due to the various different factors involved. "
   ]
  },
  {
   "cell_type": "markdown",
   "metadata": {},
   "source": [
    "### 2. Setting up your session\n",
    "\n",
    "In the code cell below, do the following:\n",
    "\n",
    "1. set current directory \n",
    "2. set more off \n",
    "3. create log file \n",
    "4. download the data from its source if it's available online\n",
    "5. read the data in [preferably only variables you are going to use]"
   ]
  },
  {
   "cell_type": "code",
   "execution_count": 1,
   "metadata": {
    "tags": []
   },
   "outputs": [
    {
     "data": {
      "text/html": [
       "<style>div.jp-Notebook .datagrid-container {min-height: 448px; }</style>"
      ],
      "text/plain": [
       "<IPython.core.display.HTML object>"
      ]
     },
     "metadata": {},
     "output_type": "display_data"
    },
    {
     "name": "stdout",
     "output_type": "stream",
     "text": [
      "/Users/hunter/Desktop/SOC 211 Stats\n"
     ]
    }
   ],
   "source": [
    "cd \"/Users/hunter/Desktop/SOC 211 Stats\""
   ]
  },
  {
   "cell_type": "code",
   "execution_count": 2,
   "metadata": {
    "tags": []
   },
   "outputs": [
    {
     "name": "stdout",
     "output_type": "stream",
     "text": [
      "(-set more- irrelevant in this version of Stata)\n"
     ]
    }
   ],
   "source": [
    "set more off"
   ]
  },
  {
   "cell_type": "code",
   "execution_count": 3,
   "metadata": {
    "tags": []
   },
   "outputs": [
    {
     "name": "stdout",
     "output_type": "stream",
     "text": [
      "-------------------------------------------------------------------------------\n",
      "      name:  <unnamed>\n",
      "       log:  /Users/hunter/Desktop/SOC 211 Stats/log for problem set 2.log\n",
      "  log type:  text\n",
      " opened on:  19 Feb 2024, 20:55:36\n"
     ]
    }
   ],
   "source": [
    "log using \"log for problem set 2.log\", replace "
   ]
  },
  {
   "cell_type": "code",
   "execution_count": 4,
   "metadata": {},
   "outputs": [
    {
     "name": "stdout",
     "output_type": "stream",
     "text": [
      "(8 vars, 581 obs)\n"
     ]
    }
   ],
   "source": [
    "\n",
    "\n",
    "insheet using grants2015_college_affordability20200218.csv, clear\n",
    "quietly {\n",
    "rename hgroup hgroupstring\n",
    "encode hgroupstring, gen(hgrouptemp)\n",
    "recode hgrouptemp (1=1 \"Highest\") (2=3 \"High\") (3=2 \"Very high\") (4=4 \"Some/None\"), gen(hgroup)\n",
    "qui label var igrnt_low \"institutional grant $ per fte\"\n",
    "qui label var sgrnt_low \"state grant $ per fte\"\n",
    "qui label var hgroup \"level of Research at a University\"\n",
    "}"
   ]
  },
  {
   "cell_type": "code",
   "execution_count": 5,
   "metadata": {
    "tags": []
   },
   "outputs": [
    {
     "name": "stdout",
     "output_type": "stream",
     "text": [
      "year           stabbr         hgroupstring   igrnt_low_inc  hgrouptemp\n",
      "instnm         control        highdeg        sgrnt_low_inc  hgroup\n"
     ]
    }
   ],
   "source": [
    "ds, varwidth(25)"
   ]
  },
  {
   "cell_type": "code",
   "execution_count": 6,
   "metadata": {
    "tags": []
   },
   "outputs": [
    {
     "name": "stdout",
     "output_type": "stream",
     "text": [
      "\n",
      "-------------------------------------------------------------------------------\n",
      "year                                                                (unlabeled)\n",
      "-------------------------------------------------------------------------------\n",
      "\n",
      "                  Type: Numeric (int)\n",
      "\n",
      "                 Range: [2015,2015]                   Units: 1\n",
      "         Unique values: 1                         Missing .: 0/581\n",
      "\n",
      "            Tabulation: Freq.  Value\n",
      "                          581  2015\n",
      "\n",
      "-------------------------------------------------------------------------------\n",
      "instnm                                                              (unlabeled)\n",
      "-------------------------------------------------------------------------------\n",
      "\n",
      "                  Type: String (str64)\n",
      "\n",
      "         Unique values: 581                       Missing \"\": 0/581\n",
      "\n",
      "              Examples: \"Florida Atlantic University\"\n",
      "                        \"Nicholls State University\"\n",
      "                        \"South Carolina State University\"\n",
      "                        \"University of Massachusetts-Dartmouth\"\n",
      "\n",
      "               Warning: Variable has embedded blanks.\n",
      "\n",
      "-------------------------------------------------------------------------------\n",
      "stabbr                                                              (unlabeled)\n",
      "-------------------------------------------------------------------------------\n",
      "\n",
      "                  Type: String (str2)\n",
      "\n",
      "         Unique values: 48                        Missing \"\": 0/581\n",
      "\n",
      "              Examples: \"HI\"\n",
      "                        \"MN\"\n",
      "                        \"NY\"\n",
      "                        \"SC\"\n",
      "\n",
      "-------------------------------------------------------------------------------\n",
      "control                                                             (unlabeled)\n",
      "-------------------------------------------------------------------------------\n",
      "\n",
      "                  Type: Numeric (byte)\n",
      "\n",
      "                 Range: [1,1]                         Units: 1\n",
      "         Unique values: 1                         Missing .: 0/581\n",
      "\n",
      "            Tabulation: Freq.  Value\n",
      "                          581  1\n",
      "\n",
      "-------------------------------------------------------------------------------\n",
      "hgroupstring                                                        (unlabeled)\n",
      "-------------------------------------------------------------------------------\n",
      "\n",
      "                  Type: String (str19)\n",
      "\n",
      "         Unique values: 4                         Missing \"\": 0/581\n",
      "\n",
      "            Tabulation: Freq.  Value\n",
      "                           34  \"AAU Public\"\n",
      "                           72  \"HRA Public\"\n",
      "                           37  \"Non-AAU VHRA Public\"\n",
      "                          438  \"Other RU Public\"\n",
      "\n",
      "               Warning: Variable has embedded blanks.\n",
      "\n",
      "-------------------------------------------------------------------------------\n",
      "highdeg                                                             (unlabeled)\n",
      "-------------------------------------------------------------------------------\n",
      "\n",
      "                  Type: Numeric (byte)\n",
      "\n",
      "                 Range: [2,4]                         Units: 1\n",
      "         Unique values: 3                         Missing .: 0/581\n",
      "\n",
      "            Tabulation: Freq.  Value\n",
      "                            7  2\n",
      "                           84  3\n",
      "                          490  4\n",
      "\n",
      "-------------------------------------------------------------------------------\n",
      "igrnt_low_inc                                     institutional grant $ per fte\n",
      "-------------------------------------------------------------------------------\n",
      "\n",
      "                  Type: Numeric (float)\n",
      "\n",
      "                 Range: [0,60578.5]                   Units: 1.000e-06\n",
      "         Unique values: 579                       Missing .: 0/581\n",
      "\n",
      "                  Mean: 6965.15\n",
      "             Std. dev.: 8034.53\n",
      "\n",
      "           Percentiles:     10%       25%       50%       75%       90%\n",
      "                        765.767   2079.92   4656.91   8337.64   15516.2\n",
      "\n",
      "-------------------------------------------------------------------------------\n",
      "sgrnt_low_inc                                             state grant $ per fte\n",
      "-------------------------------------------------------------------------------\n",
      "\n",
      "                  Type: Numeric (float)\n",
      "\n",
      "                 Range: [0,40112.09]                  Units: 1.000e-06\n",
      "         Unique values: 578                       Missing .: 0/581\n",
      "\n",
      "                  Mean: 3590.03\n",
      "             Std. dev.: 3788.36\n",
      "\n",
      "           Percentiles:     10%       25%       50%       75%       90%\n",
      "                        374.798   1255.38   2955.35   4690.81   6946.94\n",
      "\n",
      "-------------------------------------------------------------------------------\n",
      "hgrouptemp                                                          (unlabeled)\n",
      "-------------------------------------------------------------------------------\n",
      "\n",
      "                  Type: Numeric (long)\n",
      "                 Label: hgrouptemp\n",
      "\n",
      "                 Range: [1,4]                         Units: 1\n",
      "         Unique values: 4                         Missing .: 0/581\n",
      "\n",
      "            Tabulation: Freq.   Numeric  Label\n",
      "                           34         1  AAU Public\n",
      "                           72         2  HRA Public\n",
      "                           37         3  Non-AAU VHRA Public\n",
      "                          438         4  Other RU Public\n",
      "\n",
      "-------------------------------------------------------------------------------\n",
      "hgroup                                        level of Research at a University\n",
      "-------------------------------------------------------------------------------\n",
      "\n",
      "                  Type: Numeric (long)\n",
      "                 Label: hgroup\n",
      "\n",
      "                 Range: [1,4]                         Units: 1\n",
      "         Unique values: 4                         Missing .: 0/581\n",
      "\n",
      "            Tabulation: Freq.   Numeric  Label\n",
      "                           34         1  Highest\n",
      "                           37         2  Very high\n",
      "                           72         3  High\n",
      "                          438         4  Some/None\n"
     ]
    }
   ],
   "source": [
    "codebook"
   ]
  },
  {
   "cell_type": "markdown",
   "metadata": {},
   "source": [
    "Formulating about State grant aid and the level of research at a uni \n",
    "Formulating for loan repayment and college net price for low income students "
   ]
  },
  {
   "cell_type": "code",
   "execution_count": null,
   "metadata": {
    "tags": []
   },
   "outputs": [],
   "source": []
  },
  {
   "cell_type": "code",
   "execution_count": 7,
   "metadata": {
    "tags": []
   },
   "outputs": [
    {
     "name": "stdout",
     "output_type": "stream",
     "text": [
      "\n",
      "-------------------------------------------------------------------------------\n",
      "sgrnt_low_inc                                             state grant $ per fte\n",
      "-------------------------------------------------------------------------------\n",
      "\n",
      "                  Type: Numeric (float)\n",
      "\n",
      "                 Range: [0,40112.09]                  Units: 1.000e-06\n",
      "         Unique values: 578                       Missing .: 0/581\n",
      "\n",
      "                  Mean: 3590.03\n",
      "             Std. dev.: 3788.36\n",
      "\n",
      "           Percentiles:     10%       25%       50%       75%       90%\n",
      "                        374.798   1255.38   2955.35   4690.81   6946.94\n"
     ]
    }
   ],
   "source": [
    "label var sgrnt_low \"state grant $ per fte\" \n",
    "codebook sgrnt_low"
   ]
  },
  {
   "cell_type": "code",
   "execution_count": 8,
   "metadata": {
    "tags": []
   },
   "outputs": [
    {
     "name": "stdout",
     "output_type": "stream",
     "text": [
      "\n",
      "-------------------------------------------------------------------------------\n",
      "hgroup                                        level of Research at a University\n",
      "-------------------------------------------------------------------------------\n",
      "\n",
      "                  Type: Numeric (long)\n",
      "                 Label: hgroup\n",
      "\n",
      "                 Range: [1,4]                         Units: 1\n",
      "         Unique values: 4                         Missing .: 0/581\n",
      "\n",
      "            Tabulation: Freq.   Numeric  Label\n",
      "                           34         1  Highest\n",
      "                           37         2  Very high\n",
      "                           72         3  High\n",
      "                          438         4  Some/None\n"
     ]
    }
   ],
   "source": [
    "label var hgroup \"level of Research at a University\" \n",
    "codebook hgroup"
   ]
  },
  {
   "cell_type": "code",
   "execution_count": 9,
   "metadata": {
    "tags": []
   },
   "outputs": [
    {
     "name": "stdout",
     "output_type": "stream",
     "text": [
      "\n",
      "   level of |\n",
      "Research at |\n",
      "          a |\n",
      " University |      Freq.     Percent        Cum.\n",
      "------------+-----------------------------------\n",
      "    Highest |         34        5.85        5.85\n",
      "  Very high |         37        6.37       12.22\n",
      "       High |         72       12.39       24.61\n",
      "  Some/None |        438       75.39      100.00\n",
      "------------+-----------------------------------\n",
      "      Total |        581      100.00\n"
     ]
    }
   ],
   "source": [
    "tab hgroup"
   ]
  },
  {
   "cell_type": "markdown",
   "metadata": {},
   "source": [
    "### 3. Create a bar graph with confidence interval whiskers\n",
    "\n",
    "Create a bar graph that compares interval ratio data for a dependent variable across different nominal categories from an independent variable. If you are using Charlie's data, do this for the state grant aid per low income student variable name **sgrnt_low**"
   ]
  },
  {
   "cell_type": "code",
   "execution_count": 10,
   "metadata": {
    "tags": []
   },
   "outputs": [],
   "source": [
    "bysort hgroup: egen mean_StateGrantAidPerStudent=mean(sgrnt_low) "
   ]
  },
  {
   "cell_type": "code",
   "execution_count": 11,
   "metadata": {
    "tags": []
   },
   "outputs": [
    {
     "data": {
      "text/html": [
       "<div>\n",
       "<style scoped>\n",
       "    .dataframe tbody tr th:only-of-type {\n",
       "        vertical-align: middle;\n",
       "    }\n",
       "\n",
       "    .dataframe tbody tr th {\n",
       "        vertical-align: top;\n",
       "    }\n",
       "\n",
       "    .dataframe thead th {\n",
       "        text-align: right;\n",
       "    }\n",
       "</style>\n",
       "<table border=\"1\" class=\"dataframe\">\n",
       "  <thead>\n",
       "    <tr style=\"text-align: right;\">\n",
       "      <th></th>\n",
       "      <th>year</th>\n",
       "      <th>instnm</th>\n",
       "      <th>stabbr</th>\n",
       "      <th>control</th>\n",
       "      <th>hgroupstring</th>\n",
       "      <th>highdeg</th>\n",
       "      <th>igrnt_low_inc</th>\n",
       "      <th>sgrnt_low_inc</th>\n",
       "      <th>hgrouptemp</th>\n",
       "      <th>hgroup</th>\n",
       "      <th>mean_StateGrantAidPerStudent</th>\n",
       "    </tr>\n",
       "  </thead>\n",
       "  <tbody>\n",
       "    <tr>\n",
       "      <th>1</th>\n",
       "      <td>2015</td>\n",
       "      <td>University of California-Berkeley</td>\n",
       "      <td>CA</td>\n",
       "      <td>1</td>\n",
       "      <td>AAU Public</td>\n",
       "      <td>4</td>\n",
       "      <td>22477.96</td>\n",
       "      <td>12904.69</td>\n",
       "      <td>AAU Public</td>\n",
       "      <td>Highest</td>\n",
       "      <td>6340.64</td>\n",
       "    </tr>\n",
       "    <tr>\n",
       "      <th>2</th>\n",
       "      <td>2015</td>\n",
       "      <td>University of California-Los Angeles</td>\n",
       "      <td>CA</td>\n",
       "      <td>1</td>\n",
       "      <td>AAU Public</td>\n",
       "      <td>4</td>\n",
       "      <td>17725</td>\n",
       "      <td>12386.26</td>\n",
       "      <td>AAU Public</td>\n",
       "      <td>Highest</td>\n",
       "      <td>6340.64</td>\n",
       "    </tr>\n",
       "    <tr>\n",
       "      <th>3</th>\n",
       "      <td>2015</td>\n",
       "      <td>University of Colorado at Boulder</td>\n",
       "      <td>CO</td>\n",
       "      <td>1</td>\n",
       "      <td>AAU Public</td>\n",
       "      <td>4</td>\n",
       "      <td>20471.21</td>\n",
       "      <td>1049.43</td>\n",
       "      <td>AAU Public</td>\n",
       "      <td>Highest</td>\n",
       "      <td>6340.64</td>\n",
       "    </tr>\n",
       "    <tr>\n",
       "      <th>4</th>\n",
       "      <td>2015</td>\n",
       "      <td>University of Wisconsin-Madison</td>\n",
       "      <td>WI</td>\n",
       "      <td>1</td>\n",
       "      <td>AAU Public</td>\n",
       "      <td>4</td>\n",
       "      <td>16898.81</td>\n",
       "      <td>2331.341</td>\n",
       "      <td>AAU Public</td>\n",
       "      <td>Highest</td>\n",
       "      <td>6340.64</td>\n",
       "    </tr>\n",
       "    <tr>\n",
       "      <th>5</th>\n",
       "      <td>2015</td>\n",
       "      <td>University at Buffalo</td>\n",
       "      <td>NY</td>\n",
       "      <td>1</td>\n",
       "      <td>AAU Public</td>\n",
       "      <td>4</td>\n",
       "      <td>6208.214</td>\n",
       "      <td>4918.043</td>\n",
       "      <td>AAU Public</td>\n",
       "      <td>Highest</td>\n",
       "      <td>6340.64</td>\n",
       "    </tr>\n",
       "  </tbody>\n",
       "</table>\n",
       "</div>"
      ]
     },
     "metadata": {},
     "output_type": "display_data"
    }
   ],
   "source": [
    "%head"
   ]
  },
  {
   "cell_type": "code",
   "execution_count": 12,
   "metadata": {
    "tags": []
   },
   "outputs": [],
   "source": [
    "gen sqdv_StateGrantAidPerStudent=(sgrnt_low-mean_StateGrantAidPerStudent)^2 "
   ]
  },
  {
   "cell_type": "code",
   "execution_count": 13,
   "metadata": {
    "tags": []
   },
   "outputs": [],
   "source": [
    "*collapse the data set \n",
    "\n",
    "collapse ///\n",
    "(count) n=sgrnt_low ///\n",
    "(first) mean_StateGrantAidPerStudent ///\n",
    "(sum) ssqdv_StateGrantAidPerStudent= sqdv_StateGrantAidPerStudent ///\n",
    ", by(hgroup)"
   ]
  },
  {
   "cell_type": "code",
   "execution_count": 14,
   "metadata": {
    "tags": []
   },
   "outputs": [],
   "source": [
    "gen sd_StateGrantAidPerStudent=sqrt(ssqdv_StateGrantAidPerStudent/(n-1))"
   ]
  },
  {
   "cell_type": "code",
   "execution_count": 15,
   "metadata": {
    "tags": []
   },
   "outputs": [],
   "source": [
    "gen se_StateGrantAidPerStudent= sd_StateGrantAidPerStudent/sqrt(n-1)\n"
   ]
  },
  {
   "cell_type": "code",
   "execution_count": 16,
   "metadata": {
    "tags": []
   },
   "outputs": [],
   "source": [
    "gen hi_StateGrantAidPerStudent = mean_StateGrantAidPerStudent + 1.96 * se_StateGrantAidPerStudent\n",
    "gen lo_StateGrantAidPerStudent = mean_StateGrantAidPerStudent - 1.96 * se_StateGrantAidPerStudent"
   ]
  },
  {
   "cell_type": "code",
   "execution_count": 17,
   "metadata": {
    "tags": []
   },
   "outputs": [
    {
     "data": {
      "text/html": [
       "<div>\n",
       "<style scoped>\n",
       "    .dataframe tbody tr th:only-of-type {\n",
       "        vertical-align: middle;\n",
       "    }\n",
       "\n",
       "    .dataframe tbody tr th {\n",
       "        vertical-align: top;\n",
       "    }\n",
       "\n",
       "    .dataframe thead th {\n",
       "        text-align: right;\n",
       "    }\n",
       "</style>\n",
       "<table border=\"1\" class=\"dataframe\">\n",
       "  <thead>\n",
       "    <tr style=\"text-align: right;\">\n",
       "      <th></th>\n",
       "      <th>hgroup</th>\n",
       "      <th>n</th>\n",
       "      <th>mean_StateGrantAidPerStudent</th>\n",
       "      <th>ssqdv_StateGrantAidPerStudent</th>\n",
       "      <th>sd_StateGrantAidPerStudent</th>\n",
       "      <th>se_StateGrantAidPerStudent</th>\n",
       "      <th>hi_StateGrantAidPerStudent</th>\n",
       "      <th>lo_StateGrantAidPerStudent</th>\n",
       "    </tr>\n",
       "  </thead>\n",
       "  <tbody>\n",
       "    <tr>\n",
       "      <th>1</th>\n",
       "      <td>Highest</td>\n",
       "      <td>34</td>\n",
       "      <td>6340.64</td>\n",
       "      <td>1.80e+09</td>\n",
       "      <td>7388.537</td>\n",
       "      <td>1286.179</td>\n",
       "      <td>8861.551</td>\n",
       "      <td>3819.729</td>\n",
       "    </tr>\n",
       "    <tr>\n",
       "      <th>2</th>\n",
       "      <td>Very high</td>\n",
       "      <td>37</td>\n",
       "      <td>6196.042</td>\n",
       "      <td>1.58e+09</td>\n",
       "      <td>6616.836</td>\n",
       "      <td>1102.806</td>\n",
       "      <td>8357.542</td>\n",
       "      <td>4034.542</td>\n",
       "    </tr>\n",
       "    <tr>\n",
       "      <th>3</th>\n",
       "      <td>High</td>\n",
       "      <td>72</td>\n",
       "      <td>3874.735</td>\n",
       "      <td>1.20e+09</td>\n",
       "      <td>4113.963</td>\n",
       "      <td>488.2376</td>\n",
       "      <td>4831.681</td>\n",
       "      <td>2917.789</td>\n",
       "    </tr>\n",
       "    <tr>\n",
       "      <th>4</th>\n",
       "      <td>Some/None</td>\n",
       "      <td>438</td>\n",
       "      <td>3109.573</td>\n",
       "      <td>3.13e+09</td>\n",
       "      <td>2675.931</td>\n",
       "      <td>128.0071</td>\n",
       "      <td>3360.468</td>\n",
       "      <td>2858.679</td>\n",
       "    </tr>\n",
       "  </tbody>\n",
       "</table>\n",
       "</div>"
      ]
     },
     "metadata": {},
     "output_type": "display_data"
    }
   ],
   "source": [
    "%head"
   ]
  },
  {
   "cell_type": "code",
   "execution_count": 18,
   "metadata": {
    "tags": []
   },
   "outputs": [
    {
     "data": {
      "image/png": "[encoded data removed]",
      "text/plain": [
       "<IPython.core.display.Image object>"
      ]
     },
     "metadata": {},
     "output_type": "display_data"
    }
   ],
   "source": [
    "graph twoway (bar mean_StateGrantAidPerStudent hgroup, barw(.5)) ///\n",
    "(rcap hi_StateGrantAidPerStudent lo_StateGrantAidPerStudent hgroup) , ///\n",
    "xlabel(1 \"Highest\" 2 \"Very high\" 3 \"High\" 4 \"Some/None\" , noticks) ///\n",
    "ytitle(\"State Grant Aid Per Low Income Student ($)\") ///\n",
    "ylabel(0(5000)20000, format(%10.0fc)) ///\n",
    "xtitle(\"Level of Research at a University\") legend(off) name(igrntbar, replace) ///\n",
    "title(\"State Grant Aid Per Low Income Student by Level of Research at a University\")  ///\n",
    "yline(1936.825, lp(_) lcolor(red) lstyle(foreground)) scheme(plotplainblind)"
   ]
  },
  {
   "cell_type": "markdown",
   "metadata": {},
   "source": [
    "### 4. Summarize what you learned from the bar graph\n",
    "\n",
    "Do the confidence intervals overlap across categories or not? What does this mean?"
   ]
  },
  {
   "cell_type": "markdown",
   "metadata": {},
   "source": [
    "In my graph the confidence intervals do overlap across categories. This means that my relationship between levels of research at a university and State Grant Aid Per Low Income Student are not statistically significant. "
   ]
  },
  {
   "cell_type": "markdown",
   "metadata": {},
   "source": [
    "### 4. Estimate OLS regression statistics for the relationship between two interval ratio variables and ouput the table below\n",
    "\n",
    "If you use Charlie's data, use the loan repayment variable and the **netprice4lowincome** variable."
   ]
  },
  {
   "cell_type": "code",
   "execution_count": 19,
   "metadata": {
    "tags": []
   },
   "outputs": [
    {
     "name": "stdout",
     "output_type": "stream",
     "text": [
      "(19 vars, 33 obs)\n",
      "opeid               stabbr              spend_ugd_4yr_low   instatetuition\n",
      "acceptrate          hgroup              x_aid_bysticker     xstring\n",
      "y_lo_inc_rpy        upgrntn             sgrnt_low_inc       ystring\n",
      "lo_inc_debt_mdn     all_under           igrnt_low_inc       markerlabel\n",
      "instnm              netprice4lowincome  sandigrnt_low_inc\n"
     ]
    }
   ],
   "source": [
    "insheet using loanrepay2013_highestresearch.csv, clear\n",
    "ds, varwidth(25)"
   ]
  },
  {
   "cell_type": "markdown",
   "metadata": {},
   "source": [
    "### 5. Interpret the output\n",
    "\n",
    "1. What is the coefficient for your independent variable? What does it say about the size and direction of the relationship you estimated?\n",
    "\n",
    "\n",
    "The coefficent for Net price of college for low-income students is -.0011662. This number means that my relationship will be directionally negative and that it will be small \n",
    "\n",
    "2. What is the p-value for the coefficient for your independent variable? What does it indicate about how much confidence we can have in the estimated relationship?\n",
    "\n",
    "\n",
    "The P value is 0.007. This relationship is less than or equal to the significance level of Alpha (.05), thus we reject the null hypothesis that there is no association between x and y. This means that the relationship is significant \n",
    "\n",
    "3. What is the $r^2$ coefficient of determination? What does it say about how much variation in your dependent variable is explained by the independent variable?\n",
    "\n",
    "\n",
    "R-squared = 0.2148 - This means that about 21.5 percent of the variation in percent loan repayment is explained by Net price of college for low-income students\n",
    "\n",
    "4. What is the F-ratio for your $r^2$. What does it indicate about how much confidence we can have in the $r^2$ estimate?\n",
    "\n",
    "\n",
    " F(1, 31)        =      8.48 \n",
    " My F ratio is 8.41. The degrees of freedom have a critical value of 4.16. Because my F ratio is greater than my critical value, I can reject the null hypothesis. \n"
   ]
  },
  {
   "cell_type": "code",
   "execution_count": null,
   "metadata": {},
   "outputs": [],
   "source": []
  },
  {
   "cell_type": "markdown",
   "metadata": {},
   "source": [
    "### 6. Illustrate the OLS relationship with a scatter plot that includes a fitted line"
   ]
  },
  {
   "cell_type": "code",
   "execution_count": 20,
   "metadata": {},
   "outputs": [
    {
     "data": {
      "image/png": "[encoded data removed]",
      "text/plain": [
       "<IPython.core.display.Image object>"
      ]
     },
     "metadata": {},
     "output_type": "display_data"
    }
   ],
   "source": [
    "tw (scatter y_lo_inc_rpy netprice4lowincome) ///\n",
    "(lfit y_lo_inc_rpy netprice4lowincome, color(red)), ///\n",
    "ytitle(\"% Loan repayment\") ///\n",
    "xtitle(\"Net price of college for low-income students\") legend(off) scheme(plotplainblind)"
   ]
  },
  {
   "cell_type": "code",
   "execution_count": 21,
   "metadata": {
    "tags": []
   },
   "outputs": [
    {
     "name": "stdout",
     "output_type": "stream",
     "text": [
      "      name:  <unnamed>\n",
      "       log:  /Users/hunter/Desktop/SOC 211 Stats/log for problem set 2.log\n",
      "  log type:  text\n",
      " closed on:  19 Feb 2024, 20:55:42\n",
      "-------------------------------------------------------------------------------\n"
     ]
    }
   ],
   "source": [
    "log close\n"
   ]
  }
 ],
 "metadata": {
  "kernelspec": {
   "display_name": "Stata (nbstata)",
   "language": "stata",
   "name": "nbstata"
  },
  "language_info": {
   "file_extension": ".do",
   "mimetype": "text/x-stata",
   "name": "stata",
   "version": "17"
  }
 },
 "nbformat": 4,
 "nbformat_minor": 4
}
