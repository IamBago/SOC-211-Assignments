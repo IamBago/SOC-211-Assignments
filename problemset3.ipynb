{
 "cells": [
  {
   "cell_type": "markdown",
   "metadata": {},
   "source": [
    "# Problem set 3\n",
    "    \n",
    "Hunter\n",
    "\n",
    "PS 3\n",
    "\n",
    "3/4/24"
   ]
  },
  {
   "cell_type": "code",
   "execution_count": 50,
   "metadata": {
    "tags": []
   },
   "outputs": [
    {
     "name": "stdout",
     "output_type": "stream",
     "text": [
      "(19 vars, 33 obs)\n"
     ]
    }
   ],
   "source": [
    "set more off \n",
    "insheet using loanrepay2013_highestresearch.csv, comma clear"
   ]
  },
  {
   "cell_type": "code",
   "execution_count": 51,
   "metadata": {
    "tags": []
   },
   "outputs": [
    {
     "name": "stdout",
     "output_type": "stream",
     "text": [
      "opeid         instnm        all_under     sgrnt_low_~c  xstring\n",
      "acceptrate    stabbr        netprice4l~e  igrnt_low_~c  ystring\n",
      "y_lo_inc_rpy  hgroup        spend_ugd_~w  sandigrnt_~c  markerlabel\n",
      "lo_inc_deb~n  upgrntn       x_aid_byst~r  instatetui~n\n"
     ]
    }
   ],
   "source": [
    "ds"
   ]
  },
  {
   "cell_type": "code",
   "execution_count": null,
   "metadata": {
    "tags": []
   },
   "outputs": [],
   "source": []
  },
  {
   "cell_type": "code",
   "execution_count": 52,
   "metadata": {
    "tags": []
   },
   "outputs": [
    {
     "name": "stdout",
     "output_type": "stream",
     "text": [
      "\n",
      "Contains data\n",
      " Observations:            33                  \n",
      "    Variables:            19                  \n",
      "-------------------------------------------------------------------------------\n",
      "Variable      Storage   Display    Value\n",
      "    name         type    format    label      Variable label\n",
      "-------------------------------------------------------------------------------\n",
      "opeid           long    %12.0g                \n",
      "acceptrate      float   %9.0g                 \n",
      "y_lo_inc_rpy    float   %9.0g                 Y_lo_inc_rpy\n",
      "lo_inc_debt_mdn float   %9.0g                 \n",
      "instnm          str43   %43s                  \n",
      "stabbr          str2    %9s                   \n",
      "hgroup          byte    %8.0g                 \n",
      "upgrntn         long    %12.0g                \n",
      "all_under       long    %12.0g                \n",
      "netprice4lowi~e float   %9.0g                 \n",
      "spend_ugd_4yr~w float   %9.0g                 \n",
      "x_aid_bysticker float   %9.0g                 X_aid_bysticker\n",
      "sgrnt_low_inc   float   %9.0g                 \n",
      "igrnt_low_inc   float   %9.0g                 \n",
      "sandigrnt_low~c float   %9.0g                 \n",
      "instatetuition  float   %9.0g                 \n",
      "xstring         byte    %8.0g                 \n",
      "ystring         byte    %8.0g                 \n",
      "markerlabel     str6    %9s                   \n",
      "-------------------------------------------------------------------------------\n",
      "Sorted by: \n",
      "     Note: Dataset has changed since last saved.\n"
     ]
    }
   ],
   "source": [
    "des"
   ]
  },
  {
   "cell_type": "markdown",
   "metadata": {},
   "source": [
    "## 1. Develop hypotheses about two non-linear relationships [1 pt]\n",
    "\n",
    "You can use the GSS data, Student aid data, or your own data. Develop at least 2 hypotheses about non-linear relationships in your dataset of choice that do the following:\n",
    "\n",
    "    A. Use the form: The DV will change positive/negatively if the IV changes positively/negatively/categorically (specify what the variables measure and what the categories are if you have a categorical hypothesis)\n",
    "\n",
    "\n",
    "    B. State if you expect each hypothesized relationship will be linear or take one of the 5 non-linear forms (1. nominal, 2. sequential dummies, 3. splines, 4. quadratic, 5. logarithmic). You tell us at least two different non-linear forms that you think your hypothesized relationships will or will not take.\n",
    "\n",
    "    C. State your explanation why (theory) you make the predictions in A. and B.\n",
    "\n",
    "    D. Tell us the source of your data and describe its sample.\n",
    "    \n",
    "    \n",
    "    I am using data from Dr. Eaton's loan repayment sample. This data has 19 variables aboout colleges and college loan repayment among groups of students. \n",
    "    I hypothesize a relationship in that as my DV - Acceptance rate (percent) decreases, my IV - in state tuition (measured in dollars) will increase to until a certian point when tuition becomes too expensive. \n",
    "    - My theory is that schools that have lower acceptance rates are more prestegious and will cost more money to go to. There are less indivduals with lots of money, so the higher costing schools will have low acceptance rates"
   ]
  },
  {
   "cell_type": "markdown",
   "metadata": {},
   "source": [
    "## 2. Conduct statistical tests for your hypothesized relationship: [3 pts]\n",
    "\n",
    "* Estimate at least 2 different types of non-linear models that test your hypotheses.\n",
    "\n",
    "* Use appropriate regression and graphical representations to represent each model.\n",
    "\n",
    "* Use esttab to compare between types of non-linear and linear models"
   ]
  },
  {
   "cell_type": "code",
   "execution_count": 55,
   "metadata": {},
   "outputs": [
    {
     "name": "stdout",
     "output_type": "stream",
     "text": [
      "\n",
      "    Variable |        Obs        Mean    Std. dev.       Min        Max\n",
      "-------------+---------------------------------------------------------\n",
      "  acceptrate |         33    .5843943    .1889504    .214635    .917538\n",
      "instatetui~n |         33    10526.81    2454.705   5647.773   16535.96\n"
     ]
    }
   ],
   "source": [
    "sum acceptrate instatetuition"
   ]
  },
  {
   "cell_type": "code",
   "execution_count": 56,
   "metadata": {
    "tags": []
   },
   "outputs": [],
   "source": [
    "xtile istuition = instatetuition, nq(5) "
   ]
  },
  {
   "cell_type": "code",
   "execution_count": 57,
   "metadata": {
    "tags": []
   },
   "outputs": [
    {
     "name": "stdout",
     "output_type": "stream",
     "text": [
      "\n",
      "                       instatetuition\n",
      "-------------------------------------------------------------\n",
      "      Percentiles      Smallest\n",
      " 1%     5647.773       5647.773\n",
      " 5%     7188.533       7188.533\n",
      "10%     7657.991       7657.991       Obs                  33\n",
      "25%     8985.727       7657.991       Sum of wgt.          33\n",
      "\n",
      "50%      9905.68                      Mean           10526.81\n",
      "                        Largest       Std. dev.      2454.705\n",
      "75%     12355.84       13324.26\n",
      "90%     13324.26       13420.76       Variance        6025576\n",
      "95%     15008.38       15008.38       Skewness       .3526854\n",
      "99%     16535.96       16535.96       Kurtosis       2.642557\n",
      "\n",
      "5 quantiles |\n",
      "         of |\n",
      "instatetuit |\n",
      "        ion |      Freq.     Percent        Cum.\n",
      "------------+-----------------------------------\n",
      "          1 |          7       21.21       21.21\n",
      "          2 |          8       24.24       45.45\n",
      "          3 |          5       15.15       60.61\n",
      "          4 |          7       21.21       81.82\n",
      "          5 |          6       18.18      100.00\n",
      "------------+-----------------------------------\n",
      "      Total |         33      100.00\n"
     ]
    }
   ],
   "source": [
    "sum instatetuition, detail\n",
    "tab istuition"
   ]
  },
  {
   "cell_type": "code",
   "execution_count": 58,
   "metadata": {
    "tags": []
   },
   "outputs": [
    {
     "data": {
      "text/html": [
       "<div>\n",
       "<style scoped>\n",
       "    .dataframe tbody tr th:only-of-type {\n",
       "        vertical-align: middle;\n",
       "    }\n",
       "\n",
       "    .dataframe tbody tr th {\n",
       "        vertical-align: top;\n",
       "    }\n",
       "\n",
       "    .dataframe thead th {\n",
       "        text-align: right;\n",
       "    }\n",
       "</style>\n",
       "<table border=\"1\" class=\"dataframe\">\n",
       "  <thead>\n",
       "    <tr style=\"text-align: right;\">\n",
       "      <th></th>\n",
       "      <th>acceptrate</th>\n",
       "      <th>instatetuition</th>\n",
       "      <th>istuition</th>\n",
       "    </tr>\n",
       "  </thead>\n",
       "  <tbody>\n",
       "    <tr>\n",
       "      <th>1</th>\n",
       "      <td>.7800129</td>\n",
       "      <td>9157.466</td>\n",
       "      <td>2</td>\n",
       "    </tr>\n",
       "    <tr>\n",
       "      <th>2</th>\n",
       "      <td>.214635</td>\n",
       "      <td>12355.84</td>\n",
       "      <td>4</td>\n",
       "    </tr>\n",
       "    <tr>\n",
       "      <th>3</th>\n",
       "      <td>.5257108</td>\n",
       "      <td>12355.84</td>\n",
       "      <td>4</td>\n",
       "    </tr>\n",
       "    <tr>\n",
       "      <th>4</th>\n",
       "      <td>.4872242</td>\n",
       "      <td>12355.84</td>\n",
       "      <td>4</td>\n",
       "    </tr>\n",
       "    <tr>\n",
       "      <th>5</th>\n",
       "      <td>.228407</td>\n",
       "      <td>12355.84</td>\n",
       "      <td>4</td>\n",
       "    </tr>\n",
       "  </tbody>\n",
       "</table>\n",
       "</div>"
      ]
     },
     "metadata": {},
     "output_type": "display_data"
    }
   ],
   "source": [
    "%head acceptrate instatetuition istuition"
   ]
  },
  {
   "cell_type": "code",
   "execution_count": 60,
   "metadata": {
    "tags": []
   },
   "outputs": [
    {
     "name": "stdout",
     "output_type": "stream",
     "text": [
      "\n",
      "    Variable |        Obs        Mean    Std. dev.       Min        Max\n",
      "-------------+---------------------------------------------------------\n",
      "instatetui~n |          5       10064    234.6112    9905.68   10458.48\n"
     ]
    }
   ],
   "source": [
    "sum instatetuition if istuition== 3"
   ]
  },
  {
   "cell_type": "code",
   "execution_count": 61,
   "metadata": {
    "tags": []
   },
   "outputs": [
    {
     "name": "stdout",
     "output_type": "stream",
     "text": [
      "(bin=5, start=5647.7734, width=883.24531)\n",
      "(bin=5, start=0, width=1294.391)\n"
     ]
    },
    {
     "data": {
      "image/png": "[encoded data removed]",
      "text/plain": [
       "<IPython.core.display.Image object>"
      ]
     },
     "metadata": {},
     "output_type": "display_data"
    },
    {
     "data": {
      "image/png": "[encoded data removed]",
      "text/plain": [
       "<IPython.core.display.Image object>"
      ]
     },
     "metadata": {},
     "output_type": "display_data"
    }
   ],
   "source": [
    "mkspline ist1 10064 ist2 = instatetuition\n",
    "\n",
    "histogram ist1, name(hist1)\n",
    "histogram ist2, name(hist2)"
   ]
  },
  {
   "cell_type": "code",
   "execution_count": 62,
   "metadata": {
    "tags": []
   },
   "outputs": [
    {
     "name": "stdout",
     "output_type": "stream",
     "text": [
      "\n",
      "      Source |       SS           df       MS      Number of obs   =        33\n",
      "-------------+----------------------------------   F(2, 30)        =      1.60\n",
      "       Model |  .109972916         2  .054986458   Prob > F        =    0.2191\n",
      "    Residual |  1.03249881        30  .034416627   R-squared       =    0.0963\n",
      "-------------+----------------------------------   Adj R-squared   =    0.0360\n",
      "       Total |  1.14247173        32  .035702242   Root MSE        =    .18552\n",
      "\n",
      "------------------------------------------------------------------------------\n",
      "  acceptrate | Coefficient  Std. err.      t    P>|t|     [95% conf. interval]\n",
      "-------------+----------------------------------------------------------------\n",
      "        ist1 |    .000023   .0000349     0.66   0.515    -.0000483    .0000943\n",
      "        ist2 |  -.0000394   .0000223    -1.76   0.088     -.000085    6.19e-06\n",
      "       _cons |    .418524    .313522     1.33   0.192    -.2217733    1.058821\n",
      "------------------------------------------------------------------------------\n",
      "(option xb assumed; fitted values)\n"
     ]
    },
    {
     "data": {
      "image/png": "[encoded data removed]",
      "text/plain": [
       "<IPython.core.display.Image object>"
      ]
     },
     "metadata": {},
     "output_type": "display_data"
    }
   ],
   "source": [
    "reg acceptrate ist1 ist2 \n",
    "predict yhat \n",
    "\n",
    "tw (scatter acceptrate instatetuition) (line yhat instatetuition, sort color(purple) lwidth(thick))"
   ]
  },
  {
   "cell_type": "code",
   "execution_count": null,
   "metadata": {},
   "outputs": [],
   "source": [
    "*Above ^ is figure 1"
   ]
  },
  {
   "cell_type": "code",
   "execution_count": 63,
   "metadata": {
    "tags": []
   },
   "outputs": [
    {
     "name": "stdout",
     "output_type": "stream",
     "text": [
      "\n",
      "             |     knot1      knot2      knot3      knot4      knot5 \n",
      "-------------+-------------------------------------------------------\n",
      "instatetui~n |  7847.062   9018.761    9905.68   12355.84    13177.2 \n"
     ]
    }
   ],
   "source": [
    "mkspline ist3 = instatetuition, cubic displayknots"
   ]
  },
  {
   "cell_type": "code",
   "execution_count": 65,
   "metadata": {
    "tags": []
   },
   "outputs": [
    {
     "name": "stdout",
     "output_type": "stream",
     "text": [
      "\n",
      "      Source |       SS           df       MS      Number of obs   =        33\n",
      "-------------+----------------------------------   F(4, 28)        =      4.55\n",
      "       Model |  .449908289         4  .112477072   Prob > F        =    0.0059\n",
      "    Residual |   .69256344        28  .024734409   R-squared       =    0.3938\n",
      "-------------+----------------------------------   Adj R-squared   =    0.3072\n",
      "       Total |  1.14247173        32  .035702242   Root MSE        =    .15727\n",
      "\n",
      "------------------------------------------------------------------------------\n",
      "  acceptrate | Coefficient  Std. err.      t    P>|t|     [95% conf. interval]\n",
      "-------------+----------------------------------------------------------------\n",
      "       ist31 |   .0001334   .0000555     2.40   0.023     .0000196    .0002471\n",
      "       ist32 |  -.0010358    .000672    -1.54   0.134    -.0024124    .0003408\n",
      "       ist33 |   .0023746   .0022885     1.04   0.308    -.0023132    .0070625\n",
      "       ist34 |  -.0010901   .0020389    -0.53   0.597    -.0052667    .0030865\n",
      "       _cons |  -.4098623   .4375001    -0.94   0.357    -1.306041    .4863159\n",
      "------------------------------------------------------------------------------\n"
     ]
    }
   ],
   "source": [
    "reg acceptrate ist3*"
   ]
  },
  {
   "cell_type": "code",
   "execution_count": 67,
   "metadata": {
    "tags": []
   },
   "outputs": [
    {
     "name": "stdout",
     "output_type": "stream",
     "text": [
      "(option xb assumed; fitted values)\n"
     ]
    }
   ],
   "source": [
    "predict yhat2"
   ]
  },
  {
   "cell_type": "code",
   "execution_count": 68,
   "metadata": {
    "tags": []
   },
   "outputs": [
    {
     "data": {
      "image/png": "[encoded data removed]",
      "text/plain": [
       "<IPython.core.display.Image object>"
      ]
     },
     "metadata": {},
     "output_type": "display_data"
    }
   ],
   "source": [
    "tw (scatter acceptrate instatetuition) (line yhat2 instatetuition, sort color(purple) lwidth(thick))"
   ]
  },
  {
   "cell_type": "markdown",
   "metadata": {},
   "source": [
    "Gonna do the quadratic model using the variables X_aid_bysticker & acceptrate \n",
    "DV - acceptrate \n",
    "IV - X_aid_bysticker, \"Need-based state aid per Pell recipient as % of sticker\"\n",
    "I hypothesize that acceptance rate will have a linear positive relationship with Need-based state aid per Pell recipient as % of sticker\n",
    "\n",
    "I also think that schools that have higher acceptance rates must also have more need based state aid. This is because schools will be likely to accept students who thye have the funds and resources to support via state aid.  "
   ]
  },
  {
   "cell_type": "code",
   "execution_count": 69,
   "metadata": {
    "tags": []
   },
   "outputs": [],
   "source": [
    "gen istquad = instatetuition^2 "
   ]
  },
  {
   "cell_type": "code",
   "execution_count": 71,
   "metadata": {
    "tags": []
   },
   "outputs": [
    {
     "name": "stdout",
     "output_type": "stream",
     "text": [
      "\n",
      "      Source |       SS           df       MS      Number of obs   =        33\n",
      "-------------+----------------------------------   F(2, 30)        =      0.88\n",
      "       Model |   .06354302         2   .03177151   Prob > F        =    0.4238\n",
      "    Residual |  1.07892871        30   .03596429   R-squared       =    0.0556\n",
      "-------------+----------------------------------   Adj R-squared   =   -0.0073\n",
      "       Total |  1.14247173        32  .035702242   Root MSE        =    .18964\n",
      "\n",
      "------------------------------------------------------------------------------\n",
      "  acceptrate | Coefficient  Std. err.      t    P>|t|     [95% conf. interval]\n",
      "-------------+----------------------------------------------------------------\n",
      "instatetui~n |   .0000267   .0001014     0.26   0.794    -.0001803    .0002338\n",
      "     istquad |  -2.00e-09   4.59e-09    -0.44   0.665    -1.14e-08    7.36e-09\n",
      "       _cons |   .5366563   .5429145     0.99   0.331     -.572123    1.645436\n",
      "------------------------------------------------------------------------------\n"
     ]
    }
   ],
   "source": [
    "reg acceptrate instatetuition istquad"
   ]
  },
  {
   "cell_type": "code",
   "execution_count": 73,
   "metadata": {
    "tags": []
   },
   "outputs": [
    {
     "data": {
      "image/png": "[encoded data removed]",
      "text/plain": [
       "<IPython.core.display.Image object>"
      ]
     },
     "metadata": {},
     "output_type": "display_data"
    }
   ],
   "source": [
    "tw (scatter acceptrate instatetuition, sort) ///\n",
    "(lfit acceptrate instatetuition, color(red) lwidth(thick)) ///\n",
    "(qfit acceptrate instatetuition, color(green) lwidth(thick)), ///\n",
    "legend(off) name(quadratic, replace)"
   ]
  },
  {
   "cell_type": "code",
   "execution_count": 79,
   "metadata": {
    "tags": []
   },
   "outputs": [
    {
     "name": "stdout",
     "output_type": "stream",
     "text": [
      "\u001b[31mvariable loggedrepay already defined\n",
      "r(110);\u001b[0m\n"
     ]
    }
   ],
   "source": [
    "gen loggedrepay=log10(acceptrate)"
   ]
  },
  {
   "cell_type": "code",
   "execution_count": 80,
   "metadata": {
    "tags": []
   },
   "outputs": [
    {
     "name": "stdout",
     "output_type": "stream",
     "text": [
      "\n",
      "      Source |       SS           df       MS      Number of obs   =        33\n",
      "-------------+----------------------------------   F(1, 31)        =      1.18\n",
      "       Model |  .029718169         1  .029718169   Prob > F        =    0.2854\n",
      "    Residual |  .779766666        31  .025153763   R-squared       =    0.0367\n",
      "-------------+----------------------------------   Adj R-squared   =    0.0056\n",
      "       Total |  .809484835        32  .025296401   Root MSE        =     .1586\n",
      "\n",
      "------------------------------------------------------------------------------\n",
      " loggedrepay | Coefficient  Std. err.      t    P>|t|     [95% conf. interval]\n",
      "-------------+----------------------------------------------------------------\n",
      "instatetui~n |  -.0000124   .0000114    -1.09   0.285    -.0000357    .0000109\n",
      "       _cons |  -.1282157   .1233622    -1.04   0.307    -.3798145    .1233831\n",
      "------------------------------------------------------------------------------\n"
     ]
    }
   ],
   "source": [
    "reg loggedrepay instatetuition"
   ]
  },
  {
   "cell_type": "code",
   "execution_count": 81,
   "metadata": {
    "tags": []
   },
   "outputs": [
    {
     "name": "stdout",
     "output_type": "stream",
     "text": [
      "(option xb assumed; fitted values)\n",
      "(33 real changes made)\n"
     ]
    }
   ],
   "source": [
    "predict yhat3\n",
    "replace yhat3=10^(yhat3) \n",
    "\n",
    "quietly reg acceptrate instatetuition \n",
    "predict yhat4, xb"
   ]
  },
  {
   "cell_type": "code",
   "execution_count": 82,
   "metadata": {
    "tags": []
   },
   "outputs": [
    {
     "data": {
      "image/png": "[encoded data removed]",
      "text/plain": [
       "<IPython.core.display.Image object>"
      ]
     },
     "metadata": {},
     "output_type": "display_data"
    }
   ],
   "source": [
    "tw (scatter acceptrate instatetuition) ///\n",
    "(line yhat4 instatetuition, sort color(red) lwidth(thick)) /// \n",
    "(line yhat3 instatetuition, sort color(purple) lwidth(thick)), legend(off)"
   ]
  },
  {
   "cell_type": "code",
   "execution_count": 86,
   "metadata": {
    "collapsed": true,
    "jupyter": {
     "outputs_hidden": true
    },
    "tags": []
   },
   "outputs": [
    {
     "name": "stdout",
     "output_type": "stream",
     "text": [
      "\n",
      "                       instatetuition\n",
      "-------------------------------------------------------------\n",
      "      Percentiles      Smallest\n",
      " 1%     5647.773       5647.773\n",
      " 5%     7188.533       7188.533\n",
      "10%     7657.991       7657.991       Obs                  33\n",
      "25%     8985.727       7657.991       Sum of wgt.          33\n",
      "\n",
      "50%      9905.68                      Mean           10526.81\n",
      "                        Largest       Std. dev.      2454.705\n",
      "75%     12355.84       13324.26\n",
      "90%     13324.26       13420.76       Variance        6025576\n",
      "95%     15008.38       15008.38       Skewness       .3526854\n",
      "99%     16535.96       16535.96       Kurtosis       2.642557\n"
     ]
    }
   ],
   "source": [
    "sum instatetuition, detail "
   ]
  },
  {
   "cell_type": "code",
   "execution_count": 89,
   "metadata": {
    "tags": []
   },
   "outputs": [
    {
     "name": "stdout",
     "output_type": "stream",
     "text": [
      "(1 missing value generated)\n"
     ]
    }
   ],
   "source": [
    "egen ist_wtf = cut(instatetuition), at(4000,6000,8000,10000,12000,14000,16000)"
   ]
  },
  {
   "cell_type": "code",
   "execution_count": 90,
   "metadata": {
    "collapsed": true,
    "jupyter": {
     "outputs_hidden": true
    },
    "tags": []
   },
   "outputs": [
    {
     "name": "stdout",
     "output_type": "stream",
     "text": [
      "\n",
      "    ist_wtf |      Freq.     Percent        Cum.\n",
      "------------+-----------------------------------\n",
      "       4000 |          1        3.12        3.12\n",
      "       6000 |          5       15.62       18.75\n",
      "       8000 |         12       37.50       56.25\n",
      "      10000 |          3        9.38       65.62\n",
      "      12000 |         10       31.25       96.88\n",
      "      14000 |          1        3.12      100.00\n",
      "------------+-----------------------------------\n",
      "      Total |         32      100.00\n"
     ]
    }
   ],
   "source": [
    "tab ist_wtf"
   ]
  },
  {
   "cell_type": "code",
   "execution_count": 91,
   "metadata": {
    "collapsed": true,
    "jupyter": {
     "outputs_hidden": true
    },
    "tags": []
   },
   "outputs": [
    {
     "name": "stdout",
     "output_type": "stream",
     "text": [
      "\n",
      "      Source |       SS           df       MS      Number of obs   =        32\n",
      "-------------+----------------------------------   F(5, 26)        =      2.21\n",
      "       Model |  .339999677         5  .067999935   Prob > F        =    0.0843\n",
      "    Residual |  .801541992        26  .030828538   R-squared       =    0.2978\n",
      "-------------+----------------------------------   Adj R-squared   =    0.1628\n",
      "       Total |  1.14154167        31  .036823925   Root MSE        =    .17558\n",
      "\n",
      "------------------------------------------------------------------------------\n",
      "  acceptrate | Coefficient  Std. err.      t    P>|t|     [95% conf. interval]\n",
      "-------------+----------------------------------------------------------------\n",
      "     ist_wtf |\n",
      "       6000  |   .1651803   .1923389     0.86   0.398    -.2301779    .5605386\n",
      "       8000  |   .2749835   .1827501     1.50   0.144    -.1006646    .6506316\n",
      "      10000  |    .099361    .202743     0.49   0.628    -.3173831    .5161052\n",
      "      12000  |    .041631   .1841505     0.23   0.823    -.3368957    .4201577\n",
      "      14000  |   .2274788   .2483084     0.92   0.368    -.2829265    .7378841\n",
      "             |\n",
      "       _cons |   .4269711   .1755806     2.43   0.022       .06606    .7878821\n",
      "------------------------------------------------------------------------------\n"
     ]
    }
   ],
   "source": [
    "reg acceptrate i.ist_wtf"
   ]
  },
  {
   "cell_type": "code",
   "execution_count": 92,
   "metadata": {
    "collapsed": true,
    "jupyter": {
     "outputs_hidden": true
    },
    "tags": []
   },
   "outputs": [
    {
     "name": "stdout",
     "output_type": "stream",
     "text": [
      "\n",
      "Variables that uniquely identify margins: ist_wtf\n"
     ]
    },
    {
     "data": {
      "image/png": "[encoded data removed]",
      "text/plain": [
       "<IPython.core.display.Image object>"
      ]
     },
     "metadata": {},
     "output_type": "display_data"
    }
   ],
   "source": [
    "qui margins i.ist_wtf, atmeans\n",
    "marginsplot, ytitle(estimated percent loan repayment)"
   ]
  },
  {
   "cell_type": "code",
   "execution_count": null,
   "metadata": {},
   "outputs": [],
   "source": [
    "*BREAK"
   ]
  },
  {
   "cell_type": "markdown",
   "metadata": {},
   "source": [
    "\n",
    "DV - acceptrate college acceptance rate\n",
    "IV - X_aid_bysticker, \"Need-based state aid per Pell recipient as % of sticker\"\n",
    "I hypothesize that acceptance rate will have a non-linear maybe spurrious relationship with Need-based state aid per Pell recipient as % of sticker. I theorize that state aid should not have a linerar or menaiful relationship with acceptance rate becausue schools are supposed to not discriminate based on finanial standing or need for aid. "
   ]
  },
  {
   "cell_type": "code",
   "execution_count": 93,
   "metadata": {
    "tags": []
   },
   "outputs": [
    {
     "name": "stdout",
     "output_type": "stream",
     "text": [
      "\n",
      "    Variable |        Obs        Mean    Std. dev.       Min        Max\n",
      "-------------+---------------------------------------------------------\n",
      "  acceptrate |         33    .5843943    .1889504    .214635    .917538\n",
      "x_aid_byst~r |         33    27.42915    20.02007      .0455    59.5033\n"
     ]
    }
   ],
   "source": [
    "sum acceptrate x_aid_bysticker"
   ]
  },
  {
   "cell_type": "code",
   "execution_count": 94,
   "metadata": {
    "tags": []
   },
   "outputs": [],
   "source": [
    "xtile xaids = x_aid_bysticker, nq(5) "
   ]
  },
  {
   "cell_type": "code",
   "execution_count": 95,
   "metadata": {
    "tags": []
   },
   "outputs": [
    {
     "name": "stdout",
     "output_type": "stream",
     "text": [
      "\n",
      "                       X_aid_bysticker\n",
      "-------------------------------------------------------------\n",
      "      Percentiles      Smallest\n",
      " 1%        .0455          .0455\n",
      " 5%       1.7579         1.7579\n",
      "10%       3.2277         1.7579       Obs                  33\n",
      "25%       8.3263         3.2277       Sum of wgt.          33\n",
      "\n",
      "50%      27.0714                      Mean           27.42915\n",
      "                        Largest       Std. dev.      20.02007\n",
      "75%      43.5452        54.2455\n",
      "90%      54.2455        54.2455       Variance       400.8031\n",
      "95%      54.2455        54.2455       Skewness       .1371083\n",
      "99%      59.5033        59.5033       Kurtosis       1.557661\n",
      "\n",
      "5 quantiles |\n",
      "         of |\n",
      "x_aid_bysti |\n",
      "       cker |      Freq.     Percent        Cum.\n",
      "------------+-----------------------------------\n",
      "          1 |          7       21.21       21.21\n",
      "          2 |          7       21.21       42.42\n",
      "          3 |          6       18.18       60.61\n",
      "          4 |         12       36.36       96.97\n",
      "          5 |          1        3.03      100.00\n",
      "------------+-----------------------------------\n",
      "      Total |         33      100.00\n"
     ]
    }
   ],
   "source": [
    "sum x_aid_bysticker, detail\n",
    "tab xaids"
   ]
  },
  {
   "cell_type": "code",
   "execution_count": 96,
   "metadata": {
    "tags": []
   },
   "outputs": [
    {
     "data": {
      "text/html": [
       "<div>\n",
       "<style scoped>\n",
       "    .dataframe tbody tr th:only-of-type {\n",
       "        vertical-align: middle;\n",
       "    }\n",
       "\n",
       "    .dataframe tbody tr th {\n",
       "        vertical-align: top;\n",
       "    }\n",
       "\n",
       "    .dataframe thead th {\n",
       "        text-align: right;\n",
       "    }\n",
       "</style>\n",
       "<table border=\"1\" class=\"dataframe\">\n",
       "  <thead>\n",
       "    <tr style=\"text-align: right;\">\n",
       "      <th></th>\n",
       "      <th>acceptrate</th>\n",
       "      <th>x_aid_bysticker</th>\n",
       "      <th>xaids</th>\n",
       "    </tr>\n",
       "  </thead>\n",
       "  <tbody>\n",
       "    <tr>\n",
       "      <th>1</th>\n",
       "      <td>.7800129</td>\n",
       "      <td>5.5465</td>\n",
       "      <td>1</td>\n",
       "    </tr>\n",
       "    <tr>\n",
       "      <th>2</th>\n",
       "      <td>.214635</td>\n",
       "      <td>54.2455</td>\n",
       "      <td>4</td>\n",
       "    </tr>\n",
       "    <tr>\n",
       "      <th>3</th>\n",
       "      <td>.5257108</td>\n",
       "      <td>54.2455</td>\n",
       "      <td>4</td>\n",
       "    </tr>\n",
       "    <tr>\n",
       "      <th>4</th>\n",
       "      <td>.4872242</td>\n",
       "      <td>54.2455</td>\n",
       "      <td>4</td>\n",
       "    </tr>\n",
       "    <tr>\n",
       "      <th>5</th>\n",
       "      <td>.228407</td>\n",
       "      <td>54.2455</td>\n",
       "      <td>4</td>\n",
       "    </tr>\n",
       "  </tbody>\n",
       "</table>\n",
       "</div>"
      ]
     },
     "metadata": {},
     "output_type": "display_data"
    }
   ],
   "source": [
    "%head acceptrate x_aid_bysticker xaids"
   ]
  },
  {
   "cell_type": "code",
   "execution_count": 97,
   "metadata": {
    "tags": []
   },
   "outputs": [
    {
     "name": "stdout",
     "output_type": "stream",
     "text": [
      "\n",
      "    Variable |        Obs        Mean    Std. dev.       Min        Max\n",
      "-------------+---------------------------------------------------------\n",
      "x_aid_byst~r |          6     27.4318    3.113153    22.9292    30.5019\n"
     ]
    }
   ],
   "source": [
    "sum x_aid_bysticker if xaids== 3"
   ]
  },
  {
   "cell_type": "code",
   "execution_count": 111,
   "metadata": {
    "tags": []
   },
   "outputs": [
    {
     "name": "stdout",
     "output_type": "stream",
     "text": [
      "(bin=5, start=.0455, width=5.4772602)\n",
      "(bin=5, start=0, width=6.4142998)\n"
     ]
    },
    {
     "data": {
      "image/png": "[encoded data removed]",
      "text/plain": [
       "<IPython.core.display.Image object>"
      ]
     },
     "metadata": {},
     "output_type": "display_data"
    },
    {
     "data": {
      "image/png": "[encoded data removed]",
      "text/plain": [
       "<IPython.core.display.Image object>"
      ]
     },
     "metadata": {},
     "output_type": "display_data"
    }
   ],
   "source": [
    "mkspline xaidlin1 27.4318 xaidlin2 = x_aid_bysticker\n",
    "\n",
    "histogram xaidlin1, name(histaid)\n",
    "histogram xaidlin2, name(histaid2)"
   ]
  },
  {
   "cell_type": "code",
   "execution_count": 113,
   "metadata": {
    "tags": []
   },
   "outputs": [
    {
     "name": "stdout",
     "output_type": "stream",
     "text": [
      "\n",
      "      Source |       SS           df       MS      Number of obs   =        33\n",
      "-------------+----------------------------------   F(2, 30)        =     10.86\n",
      "       Model |  .479751027         2  .239875513   Prob > F        =    0.0003\n",
      "    Residual |  .662720702        30   .02209069   R-squared       =    0.4199\n",
      "-------------+----------------------------------   Adj R-squared   =    0.3813\n",
      "       Total |  1.14247173        32  .035702242   Root MSE        =    .14863\n",
      "\n",
      "------------------------------------------------------------------------------\n",
      "  acceptrate | Coefficient  Std. err.      t    P>|t|     [95% conf. interval]\n",
      "-------------+----------------------------------------------------------------\n",
      "    xaidlin1 |  -.0047557   .0032876    -1.45   0.158    -.0114698    .0019584\n",
      "    xaidlin2 |  -.0072915   .0030211    -2.41   0.022    -.0134615   -.0011216\n",
      "       _cons |   .7370244   .0549692    13.41   0.000     .6247624    .8492864\n",
      "------------------------------------------------------------------------------\n",
      "(option xb assumed; fitted values)\n"
     ]
    },
    {
     "data": {
      "image/png": "[encoded data removed]",
      "text/plain": [
       "<IPython.core.display.Image object>"
      ]
     },
     "metadata": {},
     "output_type": "display_data"
    }
   ],
   "source": [
    "reg acceptrate xaidlin1 xaidlin2 \n",
    "predict yhatscat\n",
    "\n",
    "tw (scatter acceptrate x_aid_bysticker) (line yhatscat x_aid_bysticker, sort color(purple) lwidth(thick))"
   ]
  },
  {
   "cell_type": "code",
   "execution_count": 114,
   "metadata": {
    "tags": []
   },
   "outputs": [
    {
     "name": "stdout",
     "output_type": "stream",
     "text": [
      "\n",
      "             |     knot1      knot2      knot3      knot4      knot5 \n",
      "-------------+-------------------------------------------------------\n",
      "x_aid_byst~r |    3.2277    8.91087    27.0714    43.5452    54.2455 \n"
     ]
    }
   ],
   "source": [
    "mkspline xaids3 = x_aid_bysticker, cubic displayknots"
   ]
  },
  {
   "cell_type": "code",
   "execution_count": 115,
   "metadata": {
    "tags": []
   },
   "outputs": [
    {
     "name": "stdout",
     "output_type": "stream",
     "text": [
      "\n",
      "      Source |       SS           df       MS      Number of obs   =        33\n",
      "-------------+----------------------------------   F(4, 28)        =      5.36\n",
      "       Model |  .495259065         4  .123814766   Prob > F        =    0.0025\n",
      "    Residual |  .647212664        28  .023114738   R-squared       =    0.4335\n",
      "-------------+----------------------------------   Adj R-squared   =    0.3526\n",
      "       Total |  1.14247173        32  .035702242   Root MSE        =    .15204\n",
      "\n",
      "------------------------------------------------------------------------------\n",
      "  acceptrate | Coefficient  Std. err.      t    P>|t|     [95% conf. interval]\n",
      "-------------+----------------------------------------------------------------\n",
      "     xaids31 |  -.0018896   .0134606    -0.14   0.889    -.0294624    .0256831\n",
      "     xaids32 |  -.0713989   .1834642    -0.39   0.700    -.4472082    .3044104\n",
      "     xaids33 |    .117631   .2780636     0.42   0.676    -.4519564    .6872184\n",
      "     xaids34 |  -.1100835   .1793317    -0.61   0.544    -.4774279    .2572609\n",
      "       _cons |   .7282099   .0822369     8.86   0.000     .5597553    .8966646\n",
      "------------------------------------------------------------------------------\n"
     ]
    }
   ],
   "source": [
    "reg acceptrate xaids3*"
   ]
  },
  {
   "cell_type": "code",
   "execution_count": 116,
   "metadata": {
    "tags": []
   },
   "outputs": [
    {
     "name": "stdout",
     "output_type": "stream",
     "text": [
      "(option xb assumed; fitted values)\n"
     ]
    }
   ],
   "source": [
    "predict yhatcube"
   ]
  },
  {
   "cell_type": "code",
   "execution_count": 121,
   "metadata": {
    "tags": []
   },
   "outputs": [
    {
     "data": {
      "image/png": "[encoded data removed]",
      "text/plain": [
       "<IPython.core.display.Image object>"
      ]
     },
     "metadata": {},
     "output_type": "display_data"
    }
   ],
   "source": [
    "tw (scatter acceptrate x_aid_bysticker) (line yhatcube x_aid_bysticker, sort color(purple) lwidth(thick))"
   ]
  },
  {
   "cell_type": "code",
   "execution_count": null,
   "metadata": {},
   "outputs": [],
   "source": [
    "**Figure 2"
   ]
  },
  {
   "cell_type": "markdown",
   "metadata": {},
   "source": [
    "## 3. Interpret the results [1 pt]\n",
    "\n",
    "    A. Say whether the results support or contradict your hypothesis and why\n",
    "    \n",
    "    B. Say whether a linear or particular non-linear model best describes your data and why"
   ]
  },
  {
   "cell_type": "markdown",
   "metadata": {},
   "source": [
    "After trying all of the different graphs on my first hypothesis reguarding acceptance rate and in state tuition I found one non-linear relationship. The spline graph in figure 1 indicates a drop in acceptance rate after instate tuition reaches around $10,000, acceptance rates begin to decline. This relationship is consistent with the theory and literature of college as a capitalist system, where college systems accept students who are the most likely to be able to pay their tuition bills. As tuition gets higher, a smaller demographic of individuals are able to reliably pay the tuition. This results in schools with higher tuition (after ~$10,000) to have lower acceptance rates.\n",
    "\n",
    "This relationship can also be viewed in the cubic spline below figure 1. THe cubic spline has a significantly higher rsquared value than the linear spline. This is likely because the cubic spline is able to account for the resurgence in acceptance rate after tuition passes $13,000. I think that this is being represented because their are not enough data entries for schools that charge over $12,000 for tuition. THis skews my graph to make the few schools with high tuition more heavily weighted in changing the distribution \n",
    "The results for these two variables are consistent with my hypothesis"
   ]
  },
  {
   "cell_type": "markdown",
   "metadata": {},
   "source": [
    "Upon analysis of the cubic spline graph for my second hypothesis I am finding a relationship between acceptance rate and Needbased state aid per Pell recipient as % of sticker. The rsquared coefficent for the cubic districution is a whopping 43%. This means that 43 percent of my change in x can be explained by my change in y. In figure 2, my hypothesis is proven wrong. Acceptance rate is high for a 0 percent sticker in state aid; as the percentage of state aid grows, the acceptance rate of schools declines until the distriubution flattenens out around the 50 percent acceptance rate over a span of about 28-40 percent of state aid per pell recipient. This flatenning is probably the baseline or \"normal\" ratio in this population. That means that most schools probably offer college price stickers ranging anywhere from 28-40 percent of state aid coming from pell grants. These schools/ the majority of schools also probably have around a %50 acceptance rate if they offer this sticker ammount. This relationship changes to represent the trend that colleges who offer sticker with high (over 40) percentages for state aid tend to also have lower percentages for acceptance rate of students. "
   ]
  }
 ],
 "metadata": {
  "kernelspec": {
   "display_name": "Stata (nbstata)",
   "language": "stata",
   "name": "nbstata"
  },
  "language_info": {
   "file_extension": ".do",
   "mimetype": "text/x-stata",
   "name": "stata",
   "version": "17"
  }
 },
 "nbformat": 4,
 "nbformat_minor": 4
}
